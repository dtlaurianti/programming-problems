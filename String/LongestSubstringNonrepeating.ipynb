{
 "cells": [
  {
   "attachments": {},
   "cell_type": "markdown",
   "metadata": {},
   "source": [
    "3. Longest Substring Without Repeating Characters\n",
    "Medium\n",
    "33.6K\n",
    "1.5K\n",
    "Companies\n",
    "\n",
    "Given a string s, find the length of the longest\n",
    "substring\n",
    "without repeating characters.\n",
    "\n",
    " \n",
    "\n",
    "Example 1:\n",
    "\n",
    "Input: s = \"abcabcbb\"\n",
    "Output: 3\n",
    "Explanation: The answer is \"abc\", with the length of 3.\n",
    "\n",
    "Example 2:\n",
    "\n",
    "Input: s = \"bbbbb\"\n",
    "Output: 1\n",
    "Explanation: The answer is \"b\", with the length of 1.\n",
    "\n",
    "Example 3:\n",
    "\n",
    "Input: s = \"pwwkew\"\n",
    "Output: 3\n",
    "Explanation: The answer is \"wke\", with the length of 3.\n",
    "Notice that the answer must be a substring, \"pwke\" is a subsequence and not a substring.\n",
    "\n",
    " \n",
    "\n",
    "Constraints:\n",
    "\n",
    "    0 <= s.length <= 5 * 104\n",
    "    s consists of English letters, digits, symbols and spaces.\n",
    "\n",
    "Accepted\n",
    "4.4M\n",
    "Submissions\n",
    "13.1M\n",
    "Acceptance Rate\n",
    "33.8%"
   ]
  },
  {
   "cell_type": "code",
   "execution_count": 1,
   "metadata": {},
   "outputs": [],
   "source": [
    "class Solution(object):\n",
    "    def lengthOfLongestSubstring(self, s):\n",
    "        \"\"\"\n",
    "        :type s: str\n",
    "        :rtype: int\n",
    "        \"\"\"\n",
    "        iS= 0\n",
    "        iE = 0\n",
    "        maxSub = 0\n",
    "        charSet = {}\n",
    "        for char in s:\n",
    "            # if the char is in the substring move the window up to the part of the substring after that character appeared\n",
    "            if char in charSet:\n",
    "                iS = charSet[char] + 1\n",
    "                keyDel = [key for key, value in charSet.items() if value < iS]\n",
    "                for key in keyDel:\n",
    "                    del charSet[key]\n",
    "            charSet[char] = iE\n",
    "            iE +=1\n",
    "            if len(charSet) > maxSub:\n",
    "                maxSub = len(charSet)\n",
    "        return maxSub\n"
   ]
  },
  {
   "attachments": {},
   "cell_type": "markdown",
   "metadata": {},
   "source": [
    "Store chars in the substring in a hashmap with their value as their index, when a char repeats, delete all chars from the hashmap with index less than that char. "
   ]
  }
 ],
 "metadata": {
  "kernelspec": {
   "display_name": "Python 3",
   "language": "python",
   "name": "python3"
  },
  "language_info": {
   "codemirror_mode": {
    "name": "ipython",
    "version": 3
   },
   "file_extension": ".py",
   "mimetype": "text/x-python",
   "name": "python",
   "nbconvert_exporter": "python",
   "pygments_lexer": "ipython3",
   "version": "3.11.3"
  },
  "orig_nbformat": 4
 },
 "nbformat": 4,
 "nbformat_minor": 2
}
