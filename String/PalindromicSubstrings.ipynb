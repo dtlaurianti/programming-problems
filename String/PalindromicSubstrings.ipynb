{
 "cells": [
  {
   "cell_type": "markdown",
   "metadata": {},
   "source": [
    "647. Palindromic Substrings\n",
    "Medium\n",
    "9.6K\n",
    "201\n",
    "Companies\n",
    "\n",
    "Given a string s, return the number of palindromic substrings in it.\n",
    "\n",
    "A string is a palindrome when it reads the same backward as forward.\n",
    "\n",
    "A substring is a contiguous sequence of characters within the string.\n",
    "\n",
    " \n",
    "\n",
    "Example 1:\n",
    "\n",
    "Input: s = \"abc\"\n",
    "Output: 3\n",
    "Explanation: Three palindromic strings: \"a\", \"b\", \"c\".\n",
    "\n",
    "Example 2:\n",
    "\n",
    "Input: s = \"aaa\"\n",
    "Output: 6\n",
    "Explanation: Six palindromic strings: \"a\", \"a\", \"a\", \"aa\", \"aa\", \"aaa\".\n",
    "\n",
    " \n",
    "\n",
    "Constraints:\n",
    "\n",
    "    1 <= s.length <= 1000\n",
    "    s consists of lowercase English letters.\n",
    "\n",
    "Accepted\n",
    "614.9K\n",
    "Submissions\n",
    "908.9K\n",
    "Acceptance Rate\n",
    "67.7%"
   ]
  },
  {
   "cell_type": "code",
   "execution_count": null,
   "metadata": {},
   "outputs": [],
   "source": [
    "class Solution:\n",
    "    def countSubstrings(self, s: str) -> int:\n",
    "        \n",
    "        def match(l, r):\n",
    "            if l < 0 or r >= len(s) or s[l] != s[r]:\n",
    "                return False\n",
    "            return True\n",
    "        \n",
    "        count = 1\n",
    "        for pivot in range(len(s)-1):\n",
    "            count += 1\n",
    "            l = pivot\n",
    "            r = pivot + 1\n",
    "            while match(l,r):\n",
    "                count += 1\n",
    "                l -= 1\n",
    "                r += 1\n",
    "            l = pivot - 1\n",
    "            r = pivot + 1\n",
    "            while match(l,r):\n",
    "                count += 1\n",
    "                l -= 1\n",
    "                r += 1\n",
    "\n",
    "        return count"
   ]
  },
  {
   "cell_type": "markdown",
   "metadata": {},
   "source": [
    "Use a pivot center to search and increment a counter each time we expand our l, r indicies."
   ]
  }
 ],
 "metadata": {
  "language_info": {
   "name": "python"
  },
  "orig_nbformat": 4
 },
 "nbformat": 4,
 "nbformat_minor": 2
}
