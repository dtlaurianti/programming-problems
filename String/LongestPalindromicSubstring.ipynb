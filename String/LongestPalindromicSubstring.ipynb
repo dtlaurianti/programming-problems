{
 "cells": [
  {
   "cell_type": "markdown",
   "metadata": {},
   "source": [
    "5. Longest Palindromic Substring\n",
    "Medium\n",
    "27.1K\n",
    "1.6K\n",
    "Companies\n",
    "\n",
    "Given a string s, return the longest\n",
    "palindromic\n",
    "substring\n",
    "in s.\n",
    "\n",
    " \n",
    "\n",
    "Example 1:\n",
    "\n",
    "Input: s = \"babad\"\n",
    "Output: \"bab\"\n",
    "Explanation: \"aba\" is also a valid answer.\n",
    "\n",
    "Example 2:\n",
    "\n",
    "Input: s = \"cbbd\"\n",
    "Output: \"bb\"\n",
    "\n",
    " \n",
    "\n",
    "Constraints:\n",
    "\n",
    "    1 <= s.length <= 1000\n",
    "    s consist of only digits and English letters.\n",
    "\n",
    "Accepted\n",
    "2.6M\n",
    "Submissions\n",
    "7.9M\n",
    "Acceptance Rate\n",
    "32.7%"
   ]
  },
  {
   "cell_type": "code",
   "execution_count": null,
   "metadata": {},
   "outputs": [],
   "source": [
    "class Solution:\n",
    "    def longestPalindrome(self, s: str) -> str:\n",
    "        if len(s) < 2:\n",
    "            return s\n",
    "\n",
    "        def match(l, r):\n",
    "            if l < 0 or r >= len(s) or s[l] != s[r]:\n",
    "                return 0\n",
    "\n",
    "            return 2 + match(l-1, r+1)\n",
    "\n",
    "        max_l = 0\n",
    "        max_p = 0\n",
    "        for i in range(len(s)-1):\n",
    "            e = match(i, i+1)\n",
    "            if e > max_l:\n",
    "                max_l = e\n",
    "                max_p = i\n",
    "\n",
    "            o = match(i-1, i+1) + 1\n",
    "            if o > max_l:\n",
    "                max_l = o\n",
    "                max_p = i\n",
    "\n",
    "        if max_l % 2 == 0:\n",
    "            return s[max_p-max_l//2+1:max_p+max_l//2+1]\n",
    "\n",
    "        return s[max_p-max_l//2:max_p+max_l//2+1]\n",
    "\n"
   ]
  },
  {
   "cell_type": "markdown",
   "metadata": {},
   "source": [
    "Use a helper function that expands around each pivot checking for both odd and even palindromes, store the max length and max pivot index, compute the substring refered to by those values at the end."
   ]
  }
 ],
 "metadata": {
  "language_info": {
   "name": "python"
  },
  "orig_nbformat": 4
 },
 "nbformat": 4,
 "nbformat_minor": 2
}
