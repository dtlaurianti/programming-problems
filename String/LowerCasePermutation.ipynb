{
 "cells": [
  {
   "attachments": {},
   "cell_type": "markdown",
   "metadata": {},
   "source": [
    "You will be given a string, containing both uppercase and lowercase alphabets(numbers are not allowed). You have to print all permutations of string with the added constraint that you can’t change the uppercase alphabets positions."
   ]
  },
  {
   "cell_type": "code",
   "execution_count": null,
   "metadata": {},
   "outputs": [],
   "source": [
    "# preconditions: string is a str containing only upper and lowercase letters\n",
    "# postconditions returns an array of all possible permutations of string that leave the uppercase letters in their place\n",
    "def lowercase_permutations(string: str):\n",
    "    upper_indices = []\n",
    "    lower_letters = []\n",
    "\n",
    "    # seperate out the upper and lowercase letters, storing the indices of the uppercase\n",
    "    for i in range(len(string)):\n",
    "        if string[i].isupper():\n",
    "            upper_indices.append(i)\n",
    "        else:\n",
    "            lower_letters.append(string[i])\n",
    "    \n",
    "    # list to store the permutations before we add the uppercase letters back\n",
    "    permutations = []\n",
    "\n",
    "    # generates all possible premutations\n",
    "    def backtrack(perm: list, used: list[bool]):\n",
    "        # if we have all letters in the permutation add it to the list of permutations\n",
    "        if len(perm) == len(lower_letters):\n",
    "            permutations.append(perm)\n",
    "        # otherwise add each possible letter recursively until we do reach a full permutation\n",
    "        else:\n",
    "            for i in range(len(lower_letters)):\n",
    "                if not used[i]:\n",
    "                    used[i] = True\n",
    "                    perm.append(lower_letters[i])\n",
    "                    backtrack(perm, used)\n",
    "                    perm.pop()\n",
    "                    used[i] = False\n",
    "\n",
    "    # generate the permutations\n",
    "    backtrack([], [False]*len(lower_letters))\n",
    "\n",
    "    results = []\n",
    "\n",
    "    # return uppercase letters to their positions\n",
    "    for perm in permutations:\n",
    "        # insert each uppercase letter to the correct position in each permutation\n",
    "        for index in upper_indices:\n",
    "            perm.insert(index, string[index])\n",
    "\n",
    "    return permutations\n"
   ]
  }
 ],
 "metadata": {
  "language_info": {
   "name": "python"
  },
  "orig_nbformat": 4
 },
 "nbformat": 4,
 "nbformat_minor": 2
}
