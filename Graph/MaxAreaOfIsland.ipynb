{
 "cells": [
  {
   "cell_type": "markdown",
   "metadata": {},
   "source": [
    "695. Max Area of Island\n",
    "Medium\n",
    "9.5K\n",
    "197\n",
    "Companies\n",
    "\n",
    "You are given an m x n binary matrix grid. An island is a group of 1's (representing land) connected 4-directionally (horizontal or vertical.) You may assume all four edges of the grid are surrounded by water.\n",
    "\n",
    "The area of an island is the number of cells with a value 1 in the island.\n",
    "\n",
    "Return the maximum area of an island in grid. If there is no island, return 0.\n",
    "\n",
    " \n",
    "\n",
    "Example 1:\n",
    "\n",
    "Input: grid = [[0,0,1,0,0,0,0,1,0,0,0,0,0],[0,0,0,0,0,0,0,1,1,1,0,0,0],[0,1,1,0,1,0,0,0,0,0,0,0,0],[0,1,0,0,1,1,0,0,1,0,1,0,0],[0,1,0,0,1,1,0,0,1,1,1,0,0],[0,0,0,0,0,0,0,0,0,0,1,0,0],[0,0,0,0,0,0,0,1,1,1,0,0,0],[0,0,0,0,0,0,0,1,1,0,0,0,0]]\n",
    "Output: 6\n",
    "Explanation: The answer is not 11, because the island must be connected 4-directionally.\n",
    "\n",
    "Example 2:\n",
    "\n",
    "Input: grid = [[0,0,0,0,0,0,0,0]]\n",
    "Output: 0\n",
    "\n",
    " \n",
    "\n",
    "Constraints:\n",
    "\n",
    "    m == grid.length\n",
    "    n == grid[i].length\n",
    "    1 <= m, n <= 50\n",
    "    grid[i][j] is either 0 or 1.\n",
    "\n",
    "Accepted\n",
    "762.5K\n",
    "Submissions\n",
    "1.1M\n",
    "Acceptance Rate\n",
    "71.9%"
   ]
  },
  {
   "cell_type": "code",
   "execution_count": null,
   "metadata": {},
   "outputs": [],
   "source": [
    "class Solution:\n",
    "    def maxAreaOfIsland(self, grid: List[List[int]]) -> int:\n",
    "        visited = [[0]*len(grid[0]) for _ in range(len(grid))]\n",
    "\n",
    "        max_island = 0\n",
    "\n",
    "        def inbounds(r, c):\n",
    "            return (\n",
    "                0 <= r < len(grid) and\n",
    "                0 <= c < len(grid[0])\n",
    "            )\n",
    "\n",
    "        def dfs(r, c):\n",
    "            if inbounds(r, c) and not visited[r][c] and grid[r][c]:\n",
    "                visited[r][c] = 1\n",
    "                return (1 +\n",
    "                    dfs(r+1, c) +\n",
    "                    dfs(r-1, c) +\n",
    "                    dfs(r, c+1) +\n",
    "                    dfs(r, c-1)\n",
    "                )\n",
    "            return 0\n",
    "                \n",
    "\n",
    "        for r in range(len(grid)):\n",
    "            for c in range(len(grid[0])):\n",
    "                max_island = max(max_island, dfs(r, c))\n",
    "\n",
    "        return max_island"
   ]
  },
  {
   "cell_type": "markdown",
   "metadata": {},
   "source": [
    "Classic DFS"
   ]
  }
 ],
 "metadata": {
  "language_info": {
   "name": "python"
  },
  "orig_nbformat": 4
 },
 "nbformat": 4,
 "nbformat_minor": 2
}
