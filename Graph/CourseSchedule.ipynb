{
 "cells": [
  {
   "attachments": {},
   "cell_type": "markdown",
   "metadata": {},
   "source": [
    "207. Course Schedule\n",
    "Medium\n",
    "13.2K\n",
    "530\n",
    "Companies\n",
    "\n",
    "There are a total of numCourses courses you have to take, labeled from 0 to numCourses - 1. You are given an array prerequisites where prerequisites[i] = [ai, bi] indicates that you must take course bi first if you want to take course ai.\n",
    "\n",
    "    For example, the pair [0, 1], indicates that to take course 0 you have to first take course 1.\n",
    "\n",
    "Return true if you can finish all courses. Otherwise, return false.\n",
    "\n",
    " \n",
    "\n",
    "Example 1:\n",
    "\n",
    "Input: numCourses = 2, prerequisites = [[1,0]]\n",
    "Output: true\n",
    "Explanation: There are a total of 2 courses to take. \n",
    "To take course 1 you should have finished course 0. So it is possible.\n",
    "\n",
    "Example 2:\n",
    "\n",
    "Input: numCourses = 2, prerequisites = [[1,0],[0,1]]\n",
    "Output: false\n",
    "Explanation: There are a total of 2 courses to take. \n",
    "To take course 1 you should have finished course 0, and to take course 0 you should also have finished course 1. So it is impossible.\n",
    "\n",
    " \n",
    "\n",
    "Constraints:\n",
    "\n",
    "    1 <= numCourses <= 2000\n",
    "    0 <= prerequisites.length <= 5000\n",
    "    prerequisites[i].length == 2\n",
    "    0 <= ai, bi < numCourses\n",
    "    All the pairs prerequisites[i] are unique.\n",
    "\n",
    "Accepted\n",
    "1.2M\n",
    "Submissions\n",
    "2.6M\n",
    "Acceptance Rate\n",
    "45.4%"
   ]
  },
  {
   "cell_type": "code",
   "execution_count": 2,
   "metadata": {},
   "outputs": [],
   "source": [
    "class Solution:\n",
    "    def canFinish(self, numCourses: int, prerequisites: list[list[int]]) -> bool:\n",
    "        reached = [False for _ in range(numCourses)]\n",
    "        def reachable(numCourse: int, path: set):\n",
    "            if reached[numCourse]:\n",
    "                return True\n",
    "            path.add(numCourse)\n",
    "            for pre in prerequisites:\n",
    "                if pre[0] == numCourse and (pre[1] in path or not reachable(pre[1],path)):\n",
    "                    return False\n",
    "            path.remove(numCourse)\n",
    "            reached[numCourse] = True\n",
    "            return True\n",
    "\n",
    "        return all(reachable(n, set()) for n in range(numCourses))"
   ]
  },
  {
   "attachments": {},
   "cell_type": "markdown",
   "metadata": {},
   "source": [
    "Memoization + DFS recursion, make sure to prevent infinite loops."
   ]
  },
  {
   "cell_type": "markdown",
   "metadata": {},
   "source": []
  }
 ],
 "metadata": {
  "kernelspec": {
   "display_name": "Python 3",
   "language": "python",
   "name": "python3"
  },
  "language_info": {
   "codemirror_mode": {
    "name": "ipython",
    "version": 3
   },
   "file_extension": ".py",
   "mimetype": "text/x-python",
   "name": "python",
   "nbconvert_exporter": "python",
   "pygments_lexer": "ipython3",
   "version": "3.11.3"
  },
  "orig_nbformat": 4
 },
 "nbformat": 4,
 "nbformat_minor": 2
}
