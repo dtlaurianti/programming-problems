{
 "cells": [
  {
   "attachments": {},
   "cell_type": "markdown",
   "metadata": {},
   "source": [
    "417. Pacific Atlantic Water Flow\n",
    "Medium\n",
    "6.3K\n",
    "1.2K\n",
    "Companies\n",
    "\n",
    "There is an m x n rectangular island that borders both the Pacific Ocean and Atlantic Ocean. The Pacific Ocean touches the island's left and top edges, and the Atlantic Ocean touches the island's right and bottom edges.\n",
    "\n",
    "The island is partitioned into a grid of square cells. You are given an m x n integer matrix heights where heights[r][c] represents the height above sea level of the cell at coordinate (r, c).\n",
    "\n",
    "The island receives a lot of rain, and the rain water can flow to neighboring cells directly north, south, east, and west if the neighboring cell's height is less than or equal to the current cell's height. Water can flow from any cell adjacent to an ocean into the ocean.\n",
    "\n",
    "Return a 2D list of grid coordinates result where result[i] = [ri, ci] denotes that rain water can flow from cell (ri, ci) to both the Pacific and Atlantic oceans.\n",
    "\n",
    " \n",
    "\n",
    "Example 1:\n",
    "\n",
    "Input: heights = [[1,2,2,3,5],[3,2,3,4,4],[2,4,5,3,1],[6,7,1,4,5],[5,1,1,2,4]]\n",
    "Output: [[0,4],[1,3],[1,4],[2,2],[3,0],[3,1],[4,0]]\n",
    "Explanation: The following cells can flow to the Pacific and Atlantic oceans, as shown below:\n",
    "[0,4]: [0,4] -> Pacific Ocean \n",
    "       [0,4] -> Atlantic Ocean\n",
    "[1,3]: [1,3] -> [0,3] -> Pacific Ocean \n",
    "       [1,3] -> [1,4] -> Atlantic Ocean\n",
    "[1,4]: [1,4] -> [1,3] -> [0,3] -> Pacific Ocean \n",
    "       [1,4] -> Atlantic Ocean\n",
    "[2,2]: [2,2] -> [1,2] -> [0,2] -> Pacific Ocean \n",
    "       [2,2] -> [2,3] -> [2,4] -> Atlantic Ocean\n",
    "[3,0]: [3,0] -> Pacific Ocean \n",
    "       [3,0] -> [4,0] -> Atlantic Ocean\n",
    "[3,1]: [3,1] -> [3,0] -> Pacific Ocean \n",
    "       [3,1] -> [4,1] -> Atlantic Ocean\n",
    "[4,0]: [4,0] -> Pacific Ocean \n",
    "       [4,0] -> Atlantic Ocean\n",
    "Note that there are other possible paths for these cells to flow to the Pacific and Atlantic oceans.\n",
    "\n",
    "Example 2:\n",
    "\n",
    "Input: heights = [[1]]\n",
    "Output: [[0,0]]\n",
    "Explanation: The water can flow from the only cell to the Pacific and Atlantic oceans.\n",
    "\n",
    " \n",
    "\n",
    "Constraints:\n",
    "\n",
    "    m == heights.length\n",
    "    n == heights[r].length\n",
    "    1 <= m, n <= 200\n",
    "    0 <= heights[r][c] <= 105\n",
    "\n",
    "Accepted\n",
    "356.3K\n",
    "Submissions\n",
    "653.8K\n",
    "Acceptance Rate\n",
    "54.5%"
   ]
  },
  {
   "cell_type": "code",
   "execution_count": 9,
   "metadata": {},
   "outputs": [
    {
     "data": {
      "text/plain": [
       "4"
      ]
     },
     "execution_count": 9,
     "metadata": {},
     "output_type": "execute_result"
    }
   ],
   "source": [
    "\n"
   ]
  },
  {
   "attachments": {},
   "cell_type": "markdown",
   "metadata": {},
   "source": []
  }
 ],
 "metadata": {
  "kernelspec": {
   "display_name": "Python 3",
   "language": "python",
   "name": "python3"
  },
  "language_info": {
   "codemirror_mode": {
    "name": "ipython",
    "version": 3
   },
   "file_extension": ".py",
   "mimetype": "text/x-python",
   "name": "python",
   "nbconvert_exporter": "python",
   "pygments_lexer": "ipython3",
   "version": "3.11.4"
  },
  "orig_nbformat": 4
 },
 "nbformat": 4,
 "nbformat_minor": 2
}
