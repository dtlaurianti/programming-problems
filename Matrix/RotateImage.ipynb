{
 "cells": [
  {
   "attachments": {},
   "cell_type": "markdown",
   "metadata": {},
   "source": [
    "48. Rotate Image\n",
    "Medium\n",
    "15.8K\n",
    "692\n",
    "Companies\n",
    "\n",
    "You are given an n x n 2D matrix representing an image, rotate the image by 90 degrees (clockwise).\n",
    "\n",
    "You have to rotate the image in-place, which means you have to modify the input 2D matrix directly. DO NOT allocate another 2D matrix and do the rotation.\n",
    "\n",
    " \n",
    "\n",
    "Example 1:\n",
    "\n",
    "Input: matrix = [[1,2,3],[4,5,6],[7,8,9]]\n",
    "Output: [[7,4,1],[8,5,2],[9,6,3]]\n",
    "\n",
    "Example 2:\n",
    "\n",
    "Input: matrix = [[5,1,9,11],[2,4,8,10],[13,3,6,7],[15,14,12,16]]\n",
    "Output: [[15,13,2,5],[14,3,4,1],[12,6,8,9],[16,7,10,11]]\n",
    "\n",
    " \n",
    "\n",
    "Constraints:\n",
    "\n",
    "    n == matrix.length == matrix[i].length\n",
    "    1 <= n <= 20\n",
    "    -1000 <= matrix[i][j] <= 1000\n",
    "\n"
   ]
  },
  {
   "cell_type": "code",
   "execution_count": null,
   "metadata": {},
   "outputs": [],
   "source": [
    "import math\n",
    "\n",
    "class Solution:\n",
    "    def rotate(self, matrix: List[List[int]]) -> None:\n",
    "        \"\"\"\n",
    "        Do not return anything, modify matrix in-place instead.\n",
    "        \"\"\"\n",
    "\n",
    "        n = len(matrix) - 1\n",
    "\n",
    "        def rot_calc(r, c):\n",
    "            nc = n - r\n",
    "            nr = c\n",
    "            return nr, nc\n",
    "        \n",
    "        # iterate over all the entries in one quadrant of the matrix\n",
    "        for r in range(math.floor(n/2)+1):\n",
    "            for c in range(math.ceil(n/2)):\n",
    "                temp = matrix[r][c]\n",
    "                # iterate over the quadrants of the matrix, performing a 90 degree rotation on each element, \n",
    "                # in order so that we only store one at a time\n",
    "                for q in range(4):\n",
    "                    r, c = rot_calc(r, c)\n",
    "                    new = matrix[r][c]\n",
    "                    matrix[r][c] = temp\n",
    "                    temp = new\n",
    "        \n"
   ]
  },
  {
   "attachments": {},
   "cell_type": "markdown",
   "metadata": {},
   "source": [
    "Rotate by iterating over one quadrant then doing all 4 rotations starting from that index."
   ]
  },
  {
   "attachments": {},
   "cell_type": "markdown",
   "metadata": {},
   "source": []
  }
 ],
 "metadata": {
  "language_info": {
   "name": "python"
  },
  "orig_nbformat": 4
 },
 "nbformat": 4,
 "nbformat_minor": 2
}
