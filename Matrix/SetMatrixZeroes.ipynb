{
 "cells": [
  {
   "attachments": {},
   "cell_type": "markdown",
   "metadata": {},
   "source": [
    "73. Set Matrix Zeroes\n",
    "Medium\n",
    "11.2K\n",
    "617\n",
    "Companies\n",
    "\n",
    "Given an m x n integer matrix matrix, if an element is 0, set its entire row and column to 0's.\n",
    "\n",
    "You must do it in place.\n",
    "\n",
    " \n",
    "\n",
    "Example 1:\n",
    "\n",
    "Input: matrix = [[1,1,1],[1,0,1],[1,1,1]]\n",
    "Output: [[1,0,1],[0,0,0],[1,0,1]]\n",
    "\n",
    "Example 2:\n",
    "\n",
    "Input: matrix = [[0,1,2,0],[3,4,5,2],[1,3,1,5]]\n",
    "Output: [[0,0,0,0],[0,4,5,0],[0,3,1,0]]\n",
    "\n",
    " \n",
    "\n",
    "Constraints:\n",
    "\n",
    "    m == matrix.length\n",
    "    n == matrix[0].length\n",
    "    1 <= m, n <= 200\n",
    "    -231 <= matrix[i][j] <= 231 - 1\n",
    "\n",
    " \n",
    "\n",
    "Follow up:\n",
    "\n",
    "    A straightforward solution using O(mn) space is probably a bad idea.\n",
    "    A simple improvement uses O(m + n) space, but still not the best solution.\n",
    "    Could you devise a constant space solution?\n",
    "\n",
    "Accepted\n",
    "973.9K\n",
    "Submissions\n",
    "1.9M\n",
    "Acceptance Rate\n",
    "51.4%"
   ]
  },
  {
   "cell_type": "code",
   "execution_count": 1,
   "metadata": {},
   "outputs": [],
   "source": [
    "class Solution(object):\n",
    "    def setZeroes(self, matrix):\n",
    "        \"\"\"\n",
    "        :type matrix: List[List[int]]\n",
    "        :rtype: None Do not return anything, modify matrix in-place instead.\n",
    "        \"\"\"\n",
    "        rows = set()\n",
    "        cols = set()\n",
    "        n_rows = len(matrix)\n",
    "        n_cols = len(matrix[0])\n",
    "        for i in range(n_rows):\n",
    "            for j in range(n_cols):\n",
    "                if matrix[i][j] == 0:\n",
    "                    rows.add(i)\n",
    "                    cols.add(j)\n",
    "        for i in rows:\n",
    "            for j in range(n_cols):\n",
    "                matrix[i][j] = 0\n",
    "        for i in range(n_rows):\n",
    "            for j in cols:\n",
    "                matrix[i][j] = 0\n",
    "        return matrix"
   ]
  },
  {
   "attachments": {},
   "cell_type": "markdown",
   "metadata": {},
   "source": [
    "Store row and columns indicies in seperate sets, afterwards go back and fill with zeroes."
   ]
  },
  {
   "cell_type": "markdown",
   "metadata": {},
   "source": []
  }
 ],
 "metadata": {
  "kernelspec": {
   "display_name": "Python 3",
   "language": "python",
   "name": "python3"
  },
  "language_info": {
   "codemirror_mode": {
    "name": "ipython",
    "version": 3
   },
   "file_extension": ".py",
   "mimetype": "text/x-python",
   "name": "python",
   "nbconvert_exporter": "python",
   "pygments_lexer": "ipython3",
   "version": "3.11.3"
  },
  "orig_nbformat": 4
 },
 "nbformat": 4,
 "nbformat_minor": 2
}
