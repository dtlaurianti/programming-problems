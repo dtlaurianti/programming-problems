{
 "cells": [
  {
   "cell_type": "markdown",
   "metadata": {},
   "source": [
    "435. Non-overlapping Intervals\n",
    "Medium\n",
    "7.5K\n",
    "198\n",
    "Companies\n",
    "\n",
    "Given an array of intervals intervals where intervals[i] = [starti, endi], return the minimum number of intervals you need to remove to make the rest of the intervals non-overlapping.\n",
    "\n",
    " \n",
    "\n",
    "Example 1:\n",
    "\n",
    "Input: intervals = [[1,2],[2,3],[3,4],[1,3]]\n",
    "Output: 1\n",
    "Explanation: [1,3] can be removed and the rest of the intervals are non-overlapping.\n",
    "\n",
    "Example 2:\n",
    "\n",
    "Input: intervals = [[1,2],[1,2],[1,2]]\n",
    "Output: 2\n",
    "Explanation: You need to remove two [1,2] to make the rest of the intervals non-overlapping.\n",
    "\n",
    "Example 3:\n",
    "\n",
    "Input: intervals = [[1,2],[2,3]]\n",
    "Output: 0\n",
    "Explanation: You don't need to remove any of the intervals since they're already non-overlapping.\n",
    "\n",
    " \n",
    "\n",
    "Constraints:\n",
    "\n",
    "    1 <= intervals.length <= 105\n",
    "    intervals[i].length == 2\n",
    "    -5 * 104 <= starti < endi <= 5 * 104\n",
    "\n",
    "Accepted\n",
    "463.2K\n",
    "Submissions\n",
    "888K\n",
    "Acceptance Rate\n",
    "52.2%"
   ]
  },
  {
   "cell_type": "code",
   "execution_count": null,
   "metadata": {},
   "outputs": [],
   "source": [
    "class Solution:\n",
    "    def eraseOverlapIntervals(self, intervals: List[List[int]]) -> int:\n",
    "        # cleaner solution\n",
    "        intervals.sort()\n",
    "        count = 0\n",
    "        prevEnd = intervals[0][1]\n",
    "\n",
    "        for start, end in intervals[1:]:\n",
    "            if start >= prevEnd:\n",
    "                prevEnd = end\n",
    "            else:\n",
    "                prevEnd = min(prevEnd, end)\n",
    "                count += 1\n",
    "        \n",
    "        return count\n",
    "\n",
    "        # clunky greedy solution\n",
    "        # sorted_intervals = sorted(intervals)\n",
    "        # count = 0\n",
    "        # for index in range(len(sorted_intervals)-1):\n",
    "        #    if sorted_intervals[index][1] > sorted_intervals[index+1][0]:\n",
    "        #        count += 1\n",
    "        #        if sorted_intervals[index][1] <= sorted_intervals[index+1][1]:\n",
    "        #            temp = sorted_intervals[index]\n",
    "        #            sorted_intervals[index] = sorted_intervals[index+1]\n",
    "        #            sorted_intervals[index+1] = temp\n",
    "        #        index += 1\n",
    "        #return count\n",
    "        "
   ]
  },
  {
   "cell_type": "markdown",
   "metadata": {},
   "source": [
    "Sort the intervals, then keep track of the end of the previous interval and delete the one with the last end if there is a conflict."
   ]
  }
 ],
 "metadata": {
  "language_info": {
   "name": "python"
  },
  "orig_nbformat": 4
 },
 "nbformat": 4,
 "nbformat_minor": 2
}
