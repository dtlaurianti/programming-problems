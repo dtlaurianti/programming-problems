{
 "cells": [
  {
   "attachments": {},
   "cell_type": "markdown",
   "metadata": {},
   "source": [
    "57. Insert Interval\n",
    "Medium\n",
    "8.2K\n",
    "570\n",
    "Companies\n",
    "\n",
    "You are given an array of non-overlapping intervals intervals where intervals[i] = [starti, endi] represent the start and the end of the ith interval and intervals is sorted in ascending order by starti. You are also given an interval newInterval = [start, end] that represents the start and end of another interval.\n",
    "\n",
    "Insert newInterval into intervals such that intervals is still sorted in ascending order by starti and intervals still does not have any overlapping intervals (merge overlapping intervals if necessary).\n",
    "\n",
    "Return intervals after the insertion.\n",
    "\n",
    " \n",
    "\n",
    "Example 1:\n",
    "\n",
    "Input: intervals = [[1,3],[6,9]], newInterval = [2,5]\n",
    "Output: [[1,5],[6,9]]\n",
    "\n",
    "Example 2:\n",
    "\n",
    "Input: intervals = [[1,2],[3,5],[6,7],[8,10],[12,16]], newInterval = [4,8]\n",
    "Output: [[1,2],[3,10],[12,16]]\n",
    "Explanation: Because the new interval [4,8] overlaps with [3,5],[6,7],[8,10].\n",
    "\n",
    " \n",
    "\n",
    "Constraints:\n",
    "\n",
    "    0 <= intervals.length <= 104\n",
    "    intervals[i].length == 2\n",
    "    0 <= starti <= endi <= 105\n",
    "    intervals is sorted by starti in ascending order.\n",
    "    newInterval.length == 2\n",
    "    0 <= start <= end <= 105\n",
    "\n",
    "Accepted\n",
    "754.7K\n",
    "Submissions\n",
    "1.9M\n",
    "Acceptance Rate\n",
    "39.1%"
   ]
  },
  {
   "cell_type": "code",
   "execution_count": 1,
   "metadata": {},
   "outputs": [],
   "source": [
    "class Solution(object):\n",
    "    def insert(self, intervals, newInterval):\n",
    "        \"\"\"\n",
    "        :type intervals: List[List[int]]\n",
    "        :type newInterval: List[int]\n",
    "        :rtype: List[List[int]]\n",
    "        \"\"\"\n",
    "        listDel = set()\n",
    "        index = len(intervals)\n",
    "        for i in range(len(intervals)):\n",
    "            # if our interval is contained do nothing\n",
    "            if intervals[i][0] <= newInterval[0] and intervals[i][1] >= newInterval[1]:\n",
    "                return intervals\n",
    "            # if we are past the range of newInterval break\n",
    "            if intervals[i][0] > newInterval[1]:\n",
    "                index = i-len(listDel)\n",
    "                break\n",
    "            # if the interval overlaps from the front merge it\n",
    "            if intervals[i][0] < newInterval[0] and intervals[i][1] >= newInterval[0]:\n",
    "                newInterval[0] = intervals[i][0]\n",
    "                listDel.add(i)\n",
    "            # if the interval overlaps from the back merge it\n",
    "            if intervals[i][0] <= newInterval[1] and intervals[i][1] > newInterval[1]:\n",
    "                newInterval[1] = intervals[i][1]\n",
    "                listDel.add(i)\n",
    "            # if the interval is contained delete it\n",
    "            if intervals[i][0] >= newInterval[0] and intervals[i][1] <= newInterval[1]:\n",
    "                listDel.add(i)\n",
    "        listDel = sorted(list(listDel), reverse=True)\n",
    "        for i in listDel:\n",
    "            del intervals[i]\n",
    "        intervals.insert(index, newInterval)\n",
    "        return intervals"
   ]
  },
  {
   "attachments": {},
   "cell_type": "markdown",
   "metadata": {},
   "source": [
    "Store a set of merged/contained intervals and continue to expand newInterval OTF, delete contained intervals at the end, then insert newInterval as appropriate."
   ]
  },
  {
   "cell_type": "markdown",
   "metadata": {},
   "source": []
  }
 ],
 "metadata": {
  "kernelspec": {
   "display_name": "Python 3",
   "language": "python",
   "name": "python3"
  },
  "language_info": {
   "codemirror_mode": {
    "name": "ipython",
    "version": 3
   },
   "file_extension": ".py",
   "mimetype": "text/x-python",
   "name": "python",
   "nbconvert_exporter": "python",
   "pygments_lexer": "ipython3",
   "version": "3.11.3"
  },
  "orig_nbformat": 4
 },
 "nbformat": 4,
 "nbformat_minor": 2
}
