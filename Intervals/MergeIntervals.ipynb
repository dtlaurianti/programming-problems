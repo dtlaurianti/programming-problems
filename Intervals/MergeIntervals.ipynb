{
 "cells": [
  {
   "attachments": {},
   "cell_type": "markdown",
   "metadata": {},
   "source": [
    "56. Merge Intervals\n",
    "Medium\n",
    "20.4K\n",
    "689\n",
    "Companies\n",
    "\n",
    "Given an array of intervals where intervals[i] = [starti, endi], merge all overlapping intervals, and return an array of the non-overlapping intervals that cover all the intervals in the input.\n",
    "\n",
    " \n",
    "\n",
    "Example 1:\n",
    "\n",
    "Input: intervals = [[1,3],[2,6],[8,10],[15,18]]\n",
    "Output: [[1,6],[8,10],[15,18]]\n",
    "Explanation: Since intervals [1,3] and [2,6] overlap, merge them into [1,6].\n",
    "\n",
    "Example 2:\n",
    "\n",
    "Input: intervals = [[1,4],[4,5]]\n",
    "Output: [[1,5]]\n",
    "Explanation: Intervals [1,4] and [4,5] are considered overlapping.\n",
    "\n",
    " \n",
    "\n",
    "Constraints:\n",
    "\n",
    "    1 <= intervals.length <= 104\n",
    "    intervals[i].length == 2\n",
    "    0 <= starti <= endi <= 104\n",
    "\n"
   ]
  },
  {
   "cell_type": "code",
   "execution_count": 2,
   "metadata": {},
   "outputs": [],
   "source": [
    "class Solution:\n",
    "    def merge(self, intervals: list[list[int]]) -> list[list[int]]:\n",
    "        # sort intervals in ascending order by end\n",
    "        # look backwards until you find an interval which doesn't overlap\n",
    "        # merging overlapping intervals into the last interval\n",
    "\n",
    "        sorted_intervals = sorted(intervals, key=lambda x: x[1])\n",
    "        merged_intervals = [sorted_intervals[-1]]\n",
    "        for interval in reversed(sorted_intervals):\n",
    "            # if the next interval overlaps merge it\n",
    "            if interval[1] >= merged_intervals[0][0]:\n",
    "                merged_intervals[0][0] = min(interval[0], merged_intervals[0][0])\n",
    "            else:\n",
    "                merged_intervals.insert(0, interval)\n",
    "        \n",
    "        return merged_intervals"
   ]
  },
  {
   "attachments": {},
   "cell_type": "markdown",
   "metadata": {},
   "source": [
    "Sort them in ascending order by there end then traverse in reversse order merging, use the loop invariant that the the end of the first merged interval is always greater than or equal to the the end of the next sorted interval to make it simpler."
   ]
  },
  {
   "attachments": {},
   "cell_type": "markdown",
   "metadata": {},
   "source": []
  }
 ],
 "metadata": {
  "kernelspec": {
   "display_name": "Python 3",
   "language": "python",
   "name": "python3"
  },
  "language_info": {
   "codemirror_mode": {
    "name": "ipython",
    "version": 3
   },
   "file_extension": ".py",
   "mimetype": "text/x-python",
   "name": "python",
   "nbconvert_exporter": "python",
   "pygments_lexer": "ipython3",
   "version": "3.11.4"
  },
  "orig_nbformat": 4
 },
 "nbformat": 4,
 "nbformat_minor": 2
}
