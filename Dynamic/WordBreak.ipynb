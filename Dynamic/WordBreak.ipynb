{
 "cells": [
  {
   "attachments": {},
   "cell_type": "markdown",
   "metadata": {},
   "source": [
    "139. Word Break\n",
    "Medium\n",
    "13.9K\n",
    "583\n",
    "Companies\n",
    "\n",
    "Given a string s and a dictionary of strings wordDict, return true if s can be segmented into a space-separated sequence of one or more dictionary words.\n",
    "\n",
    "Note that the same word in the dictionary may be reused multiple times in the segmentation.\n",
    "\n",
    " \n",
    "\n",
    "Example 1:\n",
    "\n",
    "Input: s = \"leetcode\", wordDict = [\"leet\",\"code\"]\n",
    "Output: true\n",
    "Explanation: Return true because \"leetcode\" can be segmented as \"leet code\".\n",
    "\n",
    "Example 2:\n",
    "\n",
    "Input: s = \"applepenapple\", wordDict = [\"apple\",\"pen\"]\n",
    "Output: true\n",
    "Explanation: Return true because \"applepenapple\" can be segmented as \"apple pen apple\".\n",
    "Note that you are allowed to reuse a dictionary word.\n",
    "\n",
    "Example 3:\n",
    "\n",
    "Input: s = \"catsandog\", wordDict = [\"cats\",\"dog\",\"sand\",\"and\",\"cat\"]\n",
    "Output: false\n",
    "\n",
    " \n",
    "\n",
    "Constraints:\n",
    "\n",
    "    1 <= s.length <= 300\n",
    "    1 <= wordDict.length <= 1000\n",
    "    1 <= wordDict[i].length <= 20\n",
    "    s and wordDict[i] consist of only lowercase English letters.\n",
    "    All the strings of wordDict are unique.\n",
    "\n",
    "Accepted\n",
    "1.3M\n",
    "Submissions\n",
    "2.9M\n",
    "Acceptance Rate\n",
    "45.6%"
   ]
  },
  {
   "cell_type": "code",
   "execution_count": 2,
   "metadata": {},
   "outputs": [],
   "source": [
    "class Solution:\n",
    "    def wordBreak(self, s: str, wordDict: list[str]) -> bool:\n",
    "        def wordCheck(ss: str, memo: dict):\n",
    "            if len(ss) == 0:\n",
    "                return True\n",
    "            if ss in memo:\n",
    "                return memo[ss]\n",
    "            for word in wordDict:\n",
    "                if ss[:len(word)] == word and wordCheck(ss[len(word):], memo):\n",
    "                    memo[ss] = True\n",
    "                    return True\n",
    "            memo[ss] = False\n",
    "            return False\n",
    "        \n",
    "        return wordCheck(s, {})"
   ]
  },
  {
   "attachments": {},
   "cell_type": "markdown",
   "metadata": {},
   "source": [
    "Check if each word is a prefix and if we can get a segmentation of the remaining string, memoizing along the way."
   ]
  },
  {
   "cell_type": "markdown",
   "metadata": {},
   "source": []
  }
 ],
 "metadata": {
  "kernelspec": {
   "display_name": "Python 3",
   "language": "python",
   "name": "python3"
  },
  "language_info": {
   "codemirror_mode": {
    "name": "ipython",
    "version": 3
   },
   "file_extension": ".py",
   "mimetype": "text/x-python",
   "name": "python",
   "nbconvert_exporter": "python",
   "pygments_lexer": "ipython3",
   "version": "3.11.5"
  },
  "orig_nbformat": 4
 },
 "nbformat": 4,
 "nbformat_minor": 2
}
