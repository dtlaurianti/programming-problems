{
 "cells": [
  {
   "attachments": {},
   "cell_type": "markdown",
   "metadata": {},
   "source": [
    "1143. Longest Common Subsequence\n",
    "Medium\n",
    "10.8K\n",
    "131\n",
    "Companies\n",
    "\n",
    "Given two strings text1 and text2, return the length of their longest common subsequence. If there is no common subsequence, return 0.\n",
    "\n",
    "A subsequence of a string is a new string generated from the original string with some characters (can be none) deleted without changing the relative order of the remaining characters.\n",
    "\n",
    "    For example, \"ace\" is a subsequence of \"abcde\".\n",
    "\n",
    "A common subsequence of two strings is a subsequence that is common to both strings.\n",
    "\n",
    " \n",
    "\n",
    "Example 1:\n",
    "\n",
    "Input: text1 = \"abcde\", text2 = \"ace\" \n",
    "Output: 3  \n",
    "Explanation: The longest common subsequence is \"ace\" and its length is 3.\n",
    "\n",
    "Example 2:\n",
    "\n",
    "Input: text1 = \"abc\", text2 = \"abc\"\n",
    "Output: 3\n",
    "Explanation: The longest common subsequence is \"abc\" and its length is 3.\n",
    "\n",
    "Example 3:\n",
    "\n",
    "Input: text1 = \"abc\", text2 = \"def\"\n",
    "Output: 0\n",
    "Explanation: There is no such common subsequence, so the result is 0.\n",
    "\n",
    " \n",
    "\n",
    "Constraints:\n",
    "\n",
    "    1 <= text1.length, text2.length <= 1000\n",
    "    text1 and text2 consist of only lowercase English characters.\n",
    "\n",
    "Accepted\n",
    "687.6K\n",
    "Submissions\n",
    "1.2M\n",
    "Acceptance Rate\n",
    "58.3%"
   ]
  },
  {
   "cell_type": "code",
   "execution_count": 1,
   "metadata": {},
   "outputs": [],
   "source": [
    "class Solution:\n",
    "    def longestCommonSubsequence(self, text1: str, text2: str) -> int:\n",
    "        table = [[0 for _ in range(len(text2)+1)] for _ in range(len(text1)+1)]\n",
    "        for i in range(1, len(text1)+1):\n",
    "            for j in range(1, len(text2)+1):\n",
    "                if text1[i-1] == text2[j-1]:\n",
    "                    table[i][j] = 1 + table[i-1][j-1]\n",
    "                else:\n",
    "                    table[i][j] = max(table[i][j-1], table[i-1][j])\n",
    "        return table[-1][-1]"
   ]
  },
  {
   "attachments": {},
   "cell_type": "markdown",
   "metadata": {},
   "source": [
    "Use a matrix which stores the longest possible common subsequence up to that index in each string, tabularization dynamic programming."
   ]
  },
  {
   "cell_type": "code",
   "execution_count": null,
   "metadata": {},
   "outputs": [],
   "source": []
  }
 ],
 "metadata": {
  "kernelspec": {
   "display_name": "Python 3",
   "language": "python",
   "name": "python3"
  },
  "language_info": {
   "codemirror_mode": {
    "name": "ipython",
    "version": 3
   },
   "file_extension": ".py",
   "mimetype": "text/x-python",
   "name": "python",
   "nbconvert_exporter": "python",
   "pygments_lexer": "ipython3",
   "version": "3.11.3"
  },
  "orig_nbformat": 4
 },
 "nbformat": 4,
 "nbformat_minor": 2
}
