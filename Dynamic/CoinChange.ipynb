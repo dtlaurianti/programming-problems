{
 "cells": [
  {
   "attachments": {},
   "cell_type": "markdown",
   "metadata": {},
   "source": [
    "322. Coin Change\n",
    "Medium\n",
    "16K\n",
    "362\n",
    "Companies\n",
    "\n",
    "You are given an integer array coins representing coins of different denominations and an integer amount representing a total amount of money.\n",
    "\n",
    "Return the fewest number of coins that you need to make up that amount. If that amount of money cannot be made up by any combination of the coins, return -1.\n",
    "\n",
    "You may assume that you have an infinite number of each kind of coin.\n",
    "\n",
    " \n",
    "\n",
    "Example 1:\n",
    "\n",
    "Input: coins = [1,2,5], amount = 11\n",
    "Output: 3\n",
    "Explanation: 11 = 5 + 5 + 1\n",
    "\n",
    "Example 2:\n",
    "\n",
    "Input: coins = [2], amount = 3\n",
    "Output: -1\n",
    "\n",
    "Example 3:\n",
    "\n",
    "Input: coins = [1], amount = 0\n",
    "Output: 0\n",
    "\n",
    " \n",
    "\n",
    "Constraints:\n",
    "\n",
    "    1 <= coins.length <= 12\n",
    "    1 <= coins[i] <= 231 - 1\n",
    "    0 <= amount <= 104\n",
    "\n",
    "Accepted\n",
    "1.4M\n",
    "Submissions\n",
    "3.3M\n",
    "Acceptance Rate\n",
    "42.1%"
   ]
  },
  {
   "cell_type": "code",
   "execution_count": 2,
   "metadata": {},
   "outputs": [],
   "source": [
    "class Solution(object):\n",
    "\n",
    "    def coinChange(self, coins, amount) -> int:\n",
    "        \"\"\"\n",
    "        :type coins: List[int]\n",
    "        :type amount: int\n",
    "        :rtype: int\n",
    "        \"\"\"\n",
    "        def change(rem, cache):\n",
    "            if rem == 0:\n",
    "                return 0\n",
    "            if rem < 0:\n",
    "                return math.inf\n",
    "            if rem in cache:\n",
    "                return cache[rem]\n",
    "            cache[rem] = 1 + min(change(rem-c, cache) for c in coins)\n",
    "            return cache[rem]\n",
    "        \n",
    "        ans = change(amount, {})\n",
    "        return -1 if ans == math.inf else ans"
   ]
  },
  {
   "attachments": {},
   "cell_type": "markdown",
   "metadata": {},
   "source": [
    "Dynamic Programming, either tabulization or memoization work."
   ]
  },
  {
   "cell_type": "code",
   "execution_count": 5,
   "metadata": {},
   "outputs": [],
   "source": [
    "class Solution:\n",
    "    def coinChange(self, coins: list[int], amount: int) -> int:\n",
    "        if amount == 0:\n",
    "            return 0\n",
    "        \n",
    "        coins = list(filter(lambda c: c <= amount, coins))\n",
    "        print (coins)\n",
    "        \n",
    "        if len(coins) == 0:\n",
    "            return -1\n",
    "        \n",
    "        if len(coins) == 1:\n",
    "            if amount % coins[0] != 0:\n",
    "                return -1\n",
    "            \n",
    "            return amount // coins[0]\n",
    "        \n",
    "        if amount % 2 != 0 and all(c % 2 == 0 for c in coins):\n",
    "            return -1\n",
    "        \n",
    "        step, seen = 0, 1 << amount\n",
    "        \n",
    "        while seen & 1 != 1:\n",
    "            cur = seen\n",
    "            \n",
    "            for coin in coins:\n",
    "                cur |= seen >> coin\n",
    "            \n",
    "            if cur == seen:\n",
    "                return -1\n",
    "            \n",
    "            step, seen = step + 1, cur\n",
    "            \n",
    "        return step"
   ]
  },
  {
   "attachments": {},
   "cell_type": "markdown",
   "metadata": {},
   "source": [
    "Bitwise solution, we create a binary string with each bit storing if we can get to a certain remainder.  We bitshift the string by the value of each coin to check the possible results of an additional coin."
   ]
  },
  {
   "cell_type": "markdown",
   "metadata": {},
   "source": []
  }
 ],
 "metadata": {
  "kernelspec": {
   "display_name": "Python 3",
   "language": "python",
   "name": "python3"
  },
  "language_info": {
   "codemirror_mode": {
    "name": "ipython",
    "version": 3
   },
   "file_extension": ".py",
   "mimetype": "text/x-python",
   "name": "python",
   "nbconvert_exporter": "python",
   "pygments_lexer": "ipython3",
   "version": "3.11.3"
  },
  "orig_nbformat": 4
 },
 "nbformat": 4,
 "nbformat_minor": 2
}
