{
 "cells": [
  {
   "attachments": {},
   "cell_type": "markdown",
   "metadata": {},
   "source": [
    "300. Longest Increasing Subsequence\n",
    "Medium\n",
    "17K\n",
    "321\n",
    "Companies\n",
    "\n",
    "Given an integer array nums, return the length of the longest strictly increasing\n",
    "subsequence\n",
    ".\n",
    "\n",
    " \n",
    "\n",
    "Example 1:\n",
    "\n",
    "Input: nums = [10,9,2,5,3,7,101,18]\n",
    "Output: 4\n",
    "Explanation: The longest increasing subsequence is [2,3,7,101], therefore the length is 4.\n",
    "\n",
    "Example 2:\n",
    "\n",
    "Input: nums = [0,1,0,3,2,3]\n",
    "Output: 4\n",
    "\n",
    "Example 3:\n",
    "\n",
    "Input: nums = [7,7,7,7,7,7,7]\n",
    "Output: 1\n",
    "\n",
    " \n",
    "\n",
    "Constraints:\n",
    "\n",
    "    1 <= nums.length <= 2500\n",
    "    -104 <= nums[i] <= 104\n",
    "\n",
    " \n",
    "\n",
    "Follow up: Can you come up with an algorithm that runs in O(n log(n)) time complexity?\n",
    "Accepted\n",
    "1.2M\n",
    "Submissions\n",
    "2.3M\n",
    "Acceptance Rate\n",
    "52.3%"
   ]
  },
  {
   "cell_type": "code",
   "execution_count": 1,
   "metadata": {},
   "outputs": [],
   "source": [
    "class Solution:\n",
    "    # binary search solution\n",
    "    def lengthOfLIS(self, nums: list[int]) -> int:\n",
    "        tails = [0]*len(nums)\n",
    "        res = 0\n",
    "        for num in nums:\n",
    "            i, j = 0, res\n",
    "            while i != j:\n",
    "                m = (i+j)//2\n",
    "                if tails[m] < num:\n",
    "                    i = m+1\n",
    "                else: \n",
    "                    j = m\n",
    "            tails[i] = num\n",
    "            res = max(res, i+1)\n",
    "        return res\n",
    "\n",
    "\n",
    "\n",
    "\n",
    "    '''\n",
    "    # dynamic programming solution\n",
    "    def lengthOfLIS(self, nums: list[int]) -> int:\n",
    "        numsLen = len(nums)\n",
    "        table = [0 for _ in range(numsLen)]\n",
    "        for i in range(numsLen):\n",
    "            for j in range(i):\n",
    "                if nums[j] < nums[i]:\n",
    "                    table[i] = max(table[i], table[j] + 1)\n",
    "        return max(table) + 1\n",
    "    '''"
   ]
  },
  {
   "attachments": {},
   "cell_type": "markdown",
   "metadata": {},
   "source": [
    "Easy way is dynamic programming, hard way is binary searching a list storing the minimum ending of a subsequence of given length."
   ]
  },
  {
   "cell_type": "markdown",
   "metadata": {},
   "source": []
  }
 ],
 "metadata": {
  "kernelspec": {
   "display_name": "Python 3",
   "language": "python",
   "name": "python3"
  },
  "language_info": {
   "codemirror_mode": {
    "name": "ipython",
    "version": 3
   },
   "file_extension": ".py",
   "mimetype": "text/x-python",
   "name": "python",
   "nbconvert_exporter": "python",
   "pygments_lexer": "ipython3",
   "version": "3.11.3"
  },
  "orig_nbformat": 4
 },
 "nbformat": 4,
 "nbformat_minor": 2
}
