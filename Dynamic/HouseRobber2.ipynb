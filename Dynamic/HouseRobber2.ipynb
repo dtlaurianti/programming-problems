{
 "cells": [
  {
   "cell_type": "markdown",
   "metadata": {},
   "source": [
    "213. House Robber II\n",
    "Medium\n",
    "9K\n",
    "129\n",
    "Companies\n",
    "\n",
    "You are a professional robber planning to rob houses along a street. Each house has a certain amount of money stashed. All houses at this place are arranged in a circle. That means the first house is the neighbor of the last one. Meanwhile, adjacent houses have a security system connected, and it will automatically contact the police if two adjacent houses were broken into on the same night.\n",
    "\n",
    "Given an integer array nums representing the amount of money of each house, return the maximum amount of money you can rob tonight without alerting the police.\n",
    "\n",
    " \n",
    "\n",
    "Example 1:\n",
    "\n",
    "Input: nums = [2,3,2]\n",
    "Output: 3\n",
    "Explanation: You cannot rob house 1 (money = 2) and then rob house 3 (money = 2), because they are adjacent houses.\n",
    "\n",
    "Example 2:\n",
    "\n",
    "Input: nums = [1,2,3,1]\n",
    "Output: 4\n",
    "Explanation: Rob house 1 (money = 1) and then rob house 3 (money = 3).\n",
    "Total amount you can rob = 1 + 3 = 4.\n",
    "\n",
    "Example 3:\n",
    "\n",
    "Input: nums = [1,2,3]\n",
    "Output: 3\n",
    "\n",
    " \n",
    "\n",
    "Constraints:\n",
    "\n",
    "    1 <= nums.length <= 100\n",
    "    0 <= nums[i] <= 1000\n",
    "\n",
    "Accepted\n",
    "633.4K\n",
    "Submissions\n",
    "1.5M\n",
    "Acceptance Rate\n",
    "41.4%"
   ]
  },
  {
   "cell_type": "code",
   "execution_count": null,
   "metadata": {},
   "outputs": [],
   "source": [
    "class Solution:\n",
    "    def rob(self, nums: List[int]) -> int:\n",
    "        n = len(nums)\n",
    "        if n < 2:\n",
    "            return nums[0]\n",
    "        if n == 2:\n",
    "            return max(nums)\n",
    "        \n",
    "        max20 = [0,0]\n",
    "        max21 = [0,0]\n",
    "\n",
    "        for i in range(n-1):\n",
    "            if max20[1] < max20[0] + nums[i]:\n",
    "                temp = max20[0]\n",
    "                max20[0] = max20[1]\n",
    "                max20[1] = temp + nums[i]\n",
    "            else:\n",
    "                max20[0] = max20[1]\n",
    "\n",
    "        \n",
    "        for i in range(1, n):\n",
    "            if max21[1] < max21[0] + nums[i]:\n",
    "                temp = max21[0]\n",
    "                max21[0] = max21[1]\n",
    "                max21[1] = temp + nums[i]\n",
    "            else:\n",
    "                max21[0] = max21[1]\n",
    "                \n",
    "        return max(max20 + max21)\n"
   ]
  },
  {
   "cell_type": "markdown",
   "metadata": {},
   "source": [
    "Consider 2 separate DP problems, starting from the first and second houses, the max of those 2 solutions is the solution."
   ]
  }
 ],
 "metadata": {
  "language_info": {
   "name": "python"
  },
  "orig_nbformat": 4
 },
 "nbformat": 4,
 "nbformat_minor": 2
}
