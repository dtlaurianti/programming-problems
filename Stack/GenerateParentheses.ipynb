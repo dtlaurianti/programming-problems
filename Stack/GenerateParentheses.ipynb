{
 "cells": [
  {
   "cell_type": "markdown",
   "metadata": {},
   "source": [
    "22. Generate Parentheses\n",
    "Medium\n",
    "19.9K\n",
    "817\n",
    "Companies\n",
    "\n",
    "Given n pairs of parentheses, write a function to generate all combinations of well-formed parentheses.\n",
    "\n",
    " \n",
    "\n",
    "Example 1:\n",
    "\n",
    "Input: n = 3\n",
    "Output: [\"((()))\",\"(()())\",\"(())()\",\"()(())\",\"()()()\"]\n",
    "\n",
    "Example 2:\n",
    "\n",
    "Input: n = 1\n",
    "Output: [\"()\"]\n",
    "\n",
    " \n",
    "\n",
    "Constraints:\n",
    "\n",
    "    1 <= n <= 8\n",
    "\n",
    "Accepted\n",
    "1.6M\n",
    "Submissions\n",
    "2.1M\n",
    "Acceptance Rate\n",
    "73.6%"
   ]
  },
  {
   "cell_type": "code",
   "execution_count": null,
   "metadata": {},
   "outputs": [],
   "source": [
    "import itertools\n",
    "class Solution:\n",
    "    def generateParenthesis(self, n: int) -> List[str]:\n",
    "        res = []\n",
    "        def dfs(string, left_paren_count, right_paren_count):\n",
    "            if len(string) == 2*n:\n",
    "                res.append(string)\n",
    "            if left_paren_count > right_paren_count:\n",
    "                dfs(string+\")\", left_paren_count, right_paren_count+1)\n",
    "            if left_paren_count < n:\n",
    "                dfs(string+\"(\", left_paren_count+1, right_paren_count)\n",
    "            \n",
    "\n",
    "        dfs(\"\", 0, 0)\n",
    "        return res"
   ]
  },
  {
   "cell_type": "markdown",
   "metadata": {},
   "source": [
    "Recursively generate the possible strings by maintaining a count of the left and right parentheses passed down the recursion, append strings to the result at the deepest level and return None."
   ]
  }
 ],
 "metadata": {
  "language_info": {
   "name": "python"
  }
 },
 "nbformat": 4,
 "nbformat_minor": 2
}
