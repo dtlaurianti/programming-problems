{
 "cells": [
  {
   "cell_type": "markdown",
   "metadata": {},
   "source": [
    "46. Permutations\n",
    "Medium\n",
    "18.1K\n",
    "292\n",
    "Companies\n",
    "\n",
    "Given an array nums of distinct integers, return all the possible permutations. You can return the answer in any order.\n",
    "\n",
    " \n",
    "\n",
    "Example 1:\n",
    "\n",
    "Input: nums = [1,2,3]\n",
    "Output: [[1,2,3],[1,3,2],[2,1,3],[2,3,1],[3,1,2],[3,2,1]]\n",
    "\n",
    "Example 2:\n",
    "\n",
    "Input: nums = [0,1]\n",
    "Output: [[0,1],[1,0]]\n",
    "\n",
    "Example 3:\n",
    "\n",
    "Input: nums = [1]\n",
    "Output: [[1]]\n",
    "\n",
    " \n",
    "\n",
    "Constraints:\n",
    "\n",
    "    1 <= nums.length <= 6\n",
    "    -10 <= nums[i] <= 10\n",
    "    All the integers of nums are unique.\n",
    "\n",
    "Accepted\n",
    "1.8M\n",
    "Submissions\n",
    "2.4M\n",
    "Acceptance Rate\n",
    "77.4%"
   ]
  },
  {
   "cell_type": "code",
   "execution_count": null,
   "metadata": {},
   "outputs": [],
   "source": [
    "import itertools\n",
    "class Solution:\n",
    "    def permute(self, nums: List[int]) -> List[List[int]]:\n",
    "        # cheese way\n",
    "        # return itertools.permutations(nums)\n",
    "\n",
    "        # def compute_permutations(permutations, nums):\n",
    "        #     if not nums:\n",
    "        #         return permutations\n",
    "        #     res = []\n",
    "        #     for permutation in permutations:\n",
    "        #         for index, num in enumerate(nums):\n",
    "        #             res += compute_permutations(\n",
    "        #                 [permutation+[num] for permutation in permutations],\n",
    "        #                 nums[:index] + nums[index+1:]\n",
    "        #             )\n",
    "        #     print(res)\n",
    "        #     return res\n",
    "        \n",
    "        # return compute_permutations([[]], nums)\n",
    "\n",
    "        result = []\n",
    "        def backtrack(nums, path):\n",
    "            if not nums:\n",
    "                result.append(path)\n",
    "                return\n",
    "            for index, element in enumerate(nums):\n",
    "                backtrack(nums[:index] + nums[index+1:], path + [element])\n",
    "\n",
    "        backtrack(nums, [])\n",
    "        return result\n",
    "        "
   ]
  },
  {
   "cell_type": "markdown",
   "metadata": {},
   "source": [
    "Recurse down to generate the permutation paths and append them to a global array at the end of the recursion."
   ]
  }
 ],
 "metadata": {
  "language_info": {
   "name": "python"
  }
 },
 "nbformat": 4,
 "nbformat_minor": 2
}
