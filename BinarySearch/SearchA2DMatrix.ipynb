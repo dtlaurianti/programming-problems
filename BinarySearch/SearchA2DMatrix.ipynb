{
 "cells": [
  {
   "cell_type": "markdown",
   "metadata": {},
   "source": [
    "74. Search a 2D Matrix\n",
    "Medium\n",
    "14.7K\n",
    "380\n",
    "Companies\n",
    "\n",
    "You are given an m x n integer matrix matrix with the following two properties:\n",
    "\n",
    "    Each row is sorted in non-decreasing order.\n",
    "    The first integer of each row is greater than the last integer of the previous row.\n",
    "\n",
    "Given an integer target, return true if target is in matrix or false otherwise.\n",
    "\n",
    "You must write a solution in O(log(m * n)) time complexity.\n",
    "\n",
    " \n",
    "\n",
    "Example 1:\n",
    "\n",
    "Input: matrix = [[1,3,5,7],[10,11,16,20],[23,30,34,60]], target = 3\n",
    "Output: true\n",
    "\n",
    "Example 2:\n",
    "\n",
    "Input: matrix = [[1,3,5,7],[10,11,16,20],[23,30,34,60]], target = 13\n",
    "Output: false\n",
    "\n",
    " \n",
    "\n",
    "Constraints:\n",
    "\n",
    "    m == matrix.length\n",
    "    n == matrix[i].length\n",
    "    1 <= m, n <= 100\n",
    "    -104 <= matrix[i][j], target <= 104\n",
    "\n",
    "Accepted\n",
    "1.5M\n",
    "Submissions\n",
    "3.1M\n",
    "Acceptance Rate\n",
    "49.3%"
   ]
  },
  {
   "cell_type": "code",
   "execution_count": null,
   "metadata": {},
   "outputs": [],
   "source": [
    "class Solution:\n",
    "    def searchMatrix(self, matrix: List[List[int]], target: int) -> bool:\n",
    "        def compute_indices(index):\n",
    "            return (index // len(matrix[0]), index % len(matrix[0]))\n",
    "\n",
    "        length = len(matrix)*len(matrix[0])\n",
    "        if length <= 2:\n",
    "            return any(target in row for row in matrix)\n",
    "\n",
    "        index = length // 2\n",
    "        upper_bound = length\n",
    "        lower_bound = 0\n",
    "\n",
    "        while lower_bound < index < upper_bound:\n",
    "            r, c = compute_indices(index)\n",
    "            print(index, r, c)\n",
    "            if matrix[r][c] == target:\n",
    "                return True\n",
    "            if matrix[r][c] > target:\n",
    "                upper_bound = index\n",
    "                index = (upper_bound + lower_bound) // 2\n",
    "            elif matrix[r][c] < target:\n",
    "                lower_bound = index\n",
    "                index = (upper_bound + lower_bound) // 2\n",
    "        \n",
    "        r, c = compute_indices(index)\n",
    "        return target == matrix[r][c]\n",
    "        "
   ]
  },
  {
   "cell_type": "markdown",
   "metadata": {},
   "source": [
    "Treat the matrix as an array, without converting it (!O(n)) and compute from a linear index to the row and column indices, binary search."
   ]
  }
 ],
 "metadata": {
  "language_info": {
   "name": "python"
  }
 },
 "nbformat": 4,
 "nbformat_minor": 2
}
