{
 "cells": [
  {
   "attachments": {},
   "cell_type": "markdown",
   "metadata": {},
   "source": [
    "371. Sum of Two Integers\n",
    "Medium\n",
    "3.5K\n",
    "4.8K\n",
    "Companies\n",
    "\n",
    "Given two integers a and b, return the sum of the two integers without using the operators + and -.\n",
    "\n",
    " \n",
    "\n",
    "Example 1:\n",
    "\n",
    "Input: a = 1, b = 2\n",
    "Output: 3\n",
    "\n",
    "Example 2:\n",
    "\n",
    "Input: a = 2, b = 3\n",
    "Output: 5\n",
    "\n",
    " \n",
    "\n",
    "Constraints:\n",
    "\n",
    "    -1000 <= a, b <= 1000\n",
    "\n",
    "Accepted\n",
    "381K\n",
    "Submissions\n",
    "751.1K\n",
    "Acceptance Rate\n",
    "50.7%"
   ]
  },
  {
   "cell_type": "code",
   "execution_count": 13,
   "metadata": {},
   "outputs": [],
   "source": [
    "class Solution(object):\n",
    "    def getSum(self, a, b):\n",
    "        \"\"\"\n",
    "        :type a: int\n",
    "        :type b: int\n",
    "        :rtype: int\n",
    "        \"\"\"\n",
    "        mask = 0xffffffff\n",
    "        sum_bits = a^b\n",
    "        carry_bits = (a & b) << 1\n",
    "\n",
    "        while carry_bits & mask != 0:\n",
    "            temp_sum = sum_bits\n",
    "            sum_bits = sum_bits ^ carry_bits\n",
    "            carry_bits = (temp_sum & carry_bits) << 1\n",
    "        return sum_bits & mask if carry_bits > 0 else sum_bits"
   ]
  },
  {
   "attachments": {},
   "cell_type": "markdown",
   "metadata": {},
   "source": [
    "\n",
    "Bitwise sum XOR ^ and carry AND &, loop until their are no more carry operations necessary.  Be aware of Python's large integer storage, use a mask otherwise negative carries will continue forever."
   ]
  },
  {
   "cell_type": "code",
   "execution_count": null,
   "metadata": {},
   "outputs": [],
   "source": []
  }
 ],
 "metadata": {
  "kernelspec": {
   "display_name": "Python 3",
   "language": "python",
   "name": "python3"
  },
  "language_info": {
   "codemirror_mode": {
    "name": "ipython",
    "version": 3
   },
   "file_extension": ".py",
   "mimetype": "text/x-python",
   "name": "python",
   "nbconvert_exporter": "python",
   "pygments_lexer": "ipython3",
   "version": "3.11.3"
  },
  "orig_nbformat": 4
 },
 "nbformat": 4,
 "nbformat_minor": 2
}
