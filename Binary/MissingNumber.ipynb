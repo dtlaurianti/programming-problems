{
 "cells": [
  {
   "attachments": {},
   "cell_type": "markdown",
   "metadata": {},
   "source": [
    "268. Missing Number\n",
    "Easy\n",
    "9.5K\n",
    "3.1K\n",
    "Companies\n",
    "\n",
    "Given an array nums containing n distinct numbers in the range [0, n], return the only number in the range that is missing from the array.\n",
    "\n",
    " \n",
    "\n",
    "Example 1:\n",
    "\n",
    "Input: nums = [3,0,1]\n",
    "Output: 2\n",
    "Explanation: n = 3 since there are 3 numbers, so all numbers are in the range [0,3]. 2 is the missing number in the range since it does not appear in nums.\n",
    "\n",
    "Example 2:\n",
    "\n",
    "Input: nums = [0,1]\n",
    "Output: 2\n",
    "Explanation: n = 2 since there are 2 numbers, so all numbers are in the range [0,2]. 2 is the missing number in the range since it does not appear in nums.\n",
    "\n",
    "Example 3:\n",
    "\n",
    "Input: nums = [9,6,4,2,3,5,7,0,1]\n",
    "Output: 8\n",
    "Explanation: n = 9 since there are 9 numbers, so all numbers are in the range [0,9]. 8 is the missing number in the range since it does not appear in nums.\n",
    "\n",
    " \n",
    "\n",
    "Constraints:\n",
    "\n",
    "    n == nums.length\n",
    "    1 <= n <= 104\n",
    "    0 <= nums[i] <= n\n",
    "    All the numbers of nums are unique.\n",
    "\n",
    " \n",
    "\n",
    "Follow up: Could you implement a solution using only O(1) extra space complexity and O(n) runtime complexity?\n",
    "Accepted\n",
    "1.5M\n",
    "Submissions\n",
    "2.4M\n",
    "Acceptance Rate\n",
    "62.9%"
   ]
  },
  {
   "cell_type": "code",
   "execution_count": 2,
   "metadata": {},
   "outputs": [],
   "source": [
    "class Solution:\n",
    "    \"\"\" first attempt\n",
    "    def missingNumber(self, nums: List[int]) -> int:\n",
    "        # store in the first element of the array a binary that checks if the number corresponding to that bit has been seen\n",
    "        nums[0] = 1 << nums[0]\n",
    "        for i in range(1, len(nums)):\n",
    "            nums[0] |= 1 << nums[i]\n",
    "        \n",
    "        # find the number which did was not contained in nums\n",
    "        count = 0\n",
    "        while nums[0] % 2 != 0:\n",
    "            nums[0] = nums[0] >> 1\n",
    "            count += 1\n",
    "        \n",
    "        return count\n",
    "    \"\"\"\n",
    "    def missingNumber(self, nums: list[int]) -> int:\n",
    "        if len(nums) == 1:\n",
    "            if nums[0] == 0:\n",
    "                return 1\n",
    "            else:\n",
    "                return 0\n",
    "        max = len(nums)\n",
    "        nums_sum = sum(nums)\n",
    "        range_sum = sum(range(max))\n",
    "        diff = nums_sum - range_sum\n",
    "        return max - diff"
   ]
  },
  {
   "attachments": {},
   "cell_type": "markdown",
   "metadata": {},
   "source": [
    "Sum the array with a sorted array missing no values and compute which value has been skipped."
   ]
  }
 ],
 "metadata": {
  "kernelspec": {
   "display_name": "Python 3",
   "language": "python",
   "name": "python3"
  },
  "language_info": {
   "codemirror_mode": {
    "name": "ipython",
    "version": 3
   },
   "file_extension": ".py",
   "mimetype": "text/x-python",
   "name": "python",
   "nbconvert_exporter": "python",
   "pygments_lexer": "ipython3",
   "version": "3.11.4"
  },
  "orig_nbformat": 4
 },
 "nbformat": 4,
 "nbformat_minor": 2
}
