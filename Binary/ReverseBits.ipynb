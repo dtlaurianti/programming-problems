{
 "cells": [
  {
   "cell_type": "markdown",
   "metadata": {},
   "source": [
    "190. Reverse Bits\n",
    "Easy\n",
    "4.7K\n",
    "1.2K\n",
    "Companies\n",
    "\n",
    "Reverse bits of a given 32 bits unsigned integer.\n",
    "\n",
    "Note:\n",
    "\n",
    "    Note that in some languages, such as Java, there is no unsigned integer type. In this case, both input and output will be given as a signed integer type. They should not affect your implementation, as the integer's internal binary representation is the same, whether it is signed or unsigned.\n",
    "    In Java, the compiler represents the signed integers using 2's complement notation. Therefore, in Example 2 above, the input represents the signed integer -3 and the output represents the signed integer -1073741825.\n",
    "\n",
    " \n",
    "\n",
    "Example 1:\n",
    "\n",
    "Input: n = 00000010100101000001111010011100\n",
    "Output:    964176192 (00111001011110000010100101000000)\n",
    "Explanation: The input binary string 00000010100101000001111010011100 represents the unsigned integer 43261596, so return 964176192 which its binary representation is 00111001011110000010100101000000.\n",
    "\n",
    "Example 2:\n",
    "\n",
    "Input: n = 11111111111111111111111111111101\n",
    "Output:   3221225471 (10111111111111111111111111111111)\n",
    "Explanation: The input binary string 11111111111111111111111111111101 represents the unsigned integer 4294967293, so return 3221225471 which its binary representation is 10111111111111111111111111111111.\n",
    "\n",
    " \n",
    "\n",
    "Constraints:\n",
    "\n",
    "    The input must be a binary string of length 32\n",
    "\n",
    " \n",
    "\n",
    "Follow up: If this function is called many times, how would you optimize it?\n",
    "Accepted\n",
    "679.8K\n",
    "Submissions\n",
    "1.2M\n",
    "Acceptance Rate\n",
    "55.8%"
   ]
  },
  {
   "cell_type": "code",
   "execution_count": null,
   "metadata": {},
   "outputs": [],
   "source": [
    "class Solution:\n",
    "    def reverseBits(self, n: int) -> int:\n",
    "        res = 0\n",
    "        # loop over the 32 bits\n",
    "        for _ in range(32):\n",
    "            # see if the rightmost bit of n is 1 or 0\n",
    "            res = (res<<1) + (n&1)\n",
    "            # delete the reversed bit by shifting right\n",
    "            n>>=1\n",
    "        return res\n",
    "\n",
    "        # type casting solution not in spirit of problem\n",
    "        '''\n",
    "        bin_n = bin(n)\n",
    "        reverse_bin_n = bin_n[:1:-1] + \"0\"*(34-len(bin_n))\n",
    "        return int(reverse_bin_n, 2)\n",
    "        '''"
   ]
  },
  {
   "cell_type": "markdown",
   "metadata": {},
   "source": [
    "Collect the bits one at a time using bit shifting to iterate over the input in reverse order and give bits proper place value in the result."
   ]
  }
 ],
 "metadata": {
  "language_info": {
   "name": "python"
  },
  "orig_nbformat": 4
 },
 "nbformat": 4,
 "nbformat_minor": 2
}
