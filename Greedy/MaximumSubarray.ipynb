{
 "cells": [
  {
   "cell_type": "markdown",
   "metadata": {},
   "source": [
    "53. Maximum Subarray\n",
    "Medium\n",
    "31.9K\n",
    "1.3K\n",
    "Companies\n",
    "\n",
    "Given an integer array nums, find the\n",
    "subarray\n",
    "with the largest sum, and return its sum.\n",
    "\n",
    " \n",
    "\n",
    "Example 1:\n",
    "\n",
    "Input: nums = [-2,1,-3,4,-1,2,1,-5,4]\n",
    "Output: 6\n",
    "Explanation: The subarray [4,-1,2,1] has the largest sum 6.\n",
    "\n",
    "Example 2:\n",
    "\n",
    "Input: nums = [1]\n",
    "Output: 1\n",
    "Explanation: The subarray [1] has the largest sum 1.\n",
    "\n",
    "Example 3:\n",
    "\n",
    "Input: nums = [5,4,-1,7,8]\n",
    "Output: 23\n",
    "Explanation: The subarray [5,4,-1,7,8] has the largest sum 23.\n",
    "\n",
    " \n",
    "\n",
    "Constraints:\n",
    "\n",
    "    1 <= nums.length <= 105\n",
    "    -104 <= nums[i] <= 104\n",
    "\n",
    " \n",
    "\n",
    "Follow up: If you have figured out the O(n) solution, try coding another solution using the divide and conquer approach, which is more subtle.\n",
    "Accepted\n",
    "3.4M\n",
    "Submissions\n",
    "6.7M\n",
    "Acceptance Rate\n",
    "50.3%"
   ]
  },
  {
   "cell_type": "code",
   "execution_count": null,
   "metadata": {},
   "outputs": [],
   "source": [
    "class Solution:\n",
    "    def maxSubArray(self, nums: List[int]) -> int:\n",
    "        mx = -inf\n",
    "        curr_sum = 0\n",
    "        for end in range(len(nums)):\n",
    "            curr_sum += nums[end]\n",
    "            mx = max(mx, curr_sum)\n",
    "            curr_sum = max(0, curr_sum)\n",
    "        \n",
    "        return mx\n"
   ]
  },
  {
   "cell_type": "markdown",
   "metadata": {},
   "source": [
    "Keep a running sum, reset it to 0 if the sum ever becomes negative, meaning we move the start of the subarray."
   ]
  }
 ],
 "metadata": {
  "language_info": {
   "name": "python"
  },
  "orig_nbformat": 4
 },
 "nbformat": 4,
 "nbformat_minor": 2
}
