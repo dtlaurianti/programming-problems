{
 "cells": [
  {
   "cell_type": "markdown",
   "metadata": {},
   "source": [
    "134. Gas Station\n",
    "Medium\n",
    "11K\n",
    "953\n",
    "Companies\n",
    "\n",
    "There are n gas stations along a circular route, where the amount of gas at the ith station is gas[i].\n",
    "\n",
    "You have a car with an unlimited gas tank and it costs cost[i] of gas to travel from the ith station to its next (i + 1)th station. You begin the journey with an empty tank at one of the gas stations.\n",
    "\n",
    "Given two integer arrays gas and cost, return the starting gas station's index if you can travel around the circuit once in the clockwise direction, otherwise return -1. If there exists a solution, it is guaranteed to be unique\n",
    "\n",
    " \n",
    "\n",
    "Example 1:\n",
    "\n",
    "Input: gas = [1,2,3,4,5], cost = [3,4,5,1,2]\n",
    "Output: 3\n",
    "Explanation:\n",
    "Start at station 3 (index 3) and fill up with 4 unit of gas. Your tank = 0 + 4 = 4\n",
    "Travel to station 4. Your tank = 4 - 1 + 5 = 8\n",
    "Travel to station 0. Your tank = 8 - 2 + 1 = 7\n",
    "Travel to station 1. Your tank = 7 - 3 + 2 = 6\n",
    "Travel to station 2. Your tank = 6 - 4 + 3 = 5\n",
    "Travel to station 3. The cost is 5. Your gas is just enough to travel back to station 3.\n",
    "Therefore, return 3 as the starting index.\n",
    "\n",
    "Example 2:\n",
    "\n",
    "Input: gas = [2,3,4], cost = [3,4,3]\n",
    "Output: -1\n",
    "Explanation:\n",
    "You can't start at station 0 or 1, as there is not enough gas to travel to the next station.\n",
    "Let's start at station 2 and fill up with 4 unit of gas. Your tank = 0 + 4 = 4\n",
    "Travel to station 0. Your tank = 4 - 3 + 2 = 3\n",
    "Travel to station 1. Your tank = 3 - 3 + 3 = 3\n",
    "You cannot travel back to station 2, as it requires 4 unit of gas but you only have 3.\n",
    "Therefore, you can't travel around the circuit once no matter where you start.\n",
    "\n",
    " \n",
    "\n",
    "Constraints:\n",
    "\n",
    "    n == gas.length == cost.length\n",
    "    1 <= n <= 105\n",
    "    0 <= gas[i], cost[i] <= 104\n",
    "\n",
    "Accepted\n",
    "663.3K\n",
    "Submissions\n",
    "1.4M\n",
    "Acceptance Rate\n",
    "45.8%"
   ]
  },
  {
   "cell_type": "code",
   "execution_count": null,
   "metadata": {},
   "outputs": [],
   "source": [
    "class Solution:\n",
    "    def canCompleteCircuit(self, gas: List[int], cost: List[int]) -> int:\n",
    "        if sum(gas) < sum(cost):\n",
    "            return -1\n",
    "        start_index = 0\n",
    "        while start_index < len(gas):\n",
    "            gas_tank = 0\n",
    "            for station in range(len(gas)+1):\n",
    "                curr_index = (start_index + station) % len(gas)\n",
    "                if station != 0 and curr_index == start_index:\n",
    "                    return start_index\n",
    "                gas_tank += gas[curr_index] - cost[curr_index]\n",
    "                if gas_tank < 0:\n",
    "                    if curr_index >= start_index:\n",
    "                        start_index = curr_index + 1\n",
    "                        break\n",
    "                    else:\n",
    "                        return -1\n",
    "        return -1"
   ]
  },
  {
   "cell_type": "markdown",
   "metadata": {},
   "source": [
    "Loop around the circle, whenever we get to a negative tank, move the start of our travel to after that - delay the negative parts of the trip as long as possible so we can bank up for them."
   ]
  }
 ],
 "metadata": {
  "language_info": {
   "name": "python"
  },
  "orig_nbformat": 4
 },
 "nbformat": 4,
 "nbformat_minor": 2
}
