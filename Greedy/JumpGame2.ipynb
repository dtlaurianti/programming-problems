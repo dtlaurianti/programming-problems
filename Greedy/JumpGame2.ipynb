{
 "cells": [
  {
   "cell_type": "markdown",
   "metadata": {},
   "source": [
    "45. Jump Game II\n",
    "Medium\n",
    "13.4K\n",
    "476\n",
    "Companies\n",
    "\n",
    "You are given a 0-indexed array of integers nums of length n. You are initially positioned at nums[0].\n",
    "\n",
    "Each element nums[i] represents the maximum length of a forward jump from index i. In other words, if you are at nums[i], you can jump to any nums[i + j] where:\n",
    "\n",
    "    0 <= j <= nums[i] and\n",
    "    i + j < n\n",
    "\n",
    "Return the minimum number of jumps to reach nums[n - 1]. The test cases are generated such that you can reach nums[n - 1].\n",
    "\n",
    " \n",
    "\n",
    "Example 1:\n",
    "\n",
    "Input: nums = [2,3,1,1,4]\n",
    "Output: 2\n",
    "Explanation: The minimum number of jumps to reach the last index is 2. Jump 1 step from index 0 to 1, then 3 steps to the last index.\n",
    "\n",
    "Example 2:\n",
    "\n",
    "Input: nums = [2,3,0,1,4]\n",
    "Output: 2\n",
    "\n",
    " \n",
    "\n",
    "Constraints:\n",
    "\n",
    "    1 <= nums.length <= 104\n",
    "    0 <= nums[i] <= 1000\n",
    "    It's guaranteed that you can reach nums[n - 1].\n",
    "\n",
    "Accepted\n",
    "1M\n",
    "Submissions\n",
    "2.5M\n",
    "Acceptance Rate\n",
    "40.1%"
   ]
  },
  {
   "cell_type": "code",
   "execution_count": null,
   "metadata": {},
   "outputs": [],
   "source": [
    "class Solution:\n",
    "    def jump(self, nums: List[int]) -> int:\n",
    "        index = 0\n",
    "        jumps = 0\n",
    "        while index < len(nums)-1:\n",
    "            max2 = nums[index]\n",
    "            maxj = nums[index]\n",
    "            for j in range(1, nums[index]+1):\n",
    "                if index + j == len(nums)-1:\n",
    "                    return jumps + 1\n",
    "                if index + j < len(nums) and j + nums[index + j] > max2:\n",
    "                    max2 = j + nums[index + j]\n",
    "                    maxj = j\n",
    "            index += maxj\n",
    "            jumps += 1\n",
    "            print(index, jumps)\n",
    "\n",
    "        return jumps"
   ]
  },
  {
   "cell_type": "markdown",
   "metadata": {},
   "source": [
    "At each stage, jump to the index which will allow the next jump to possibly go to the furthest location, except if we can reach the end this jump."
   ]
  }
 ],
 "metadata": {
  "language_info": {
   "name": "python"
  },
  "orig_nbformat": 4
 },
 "nbformat": 4,
 "nbformat_minor": 2
}
