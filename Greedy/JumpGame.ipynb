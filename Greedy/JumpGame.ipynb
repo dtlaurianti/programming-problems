{
 "cells": [
  {
   "cell_type": "markdown",
   "metadata": {},
   "source": [
    "55. Jump Game\n",
    "Medium\n",
    "17.8K\n",
    "1K\n",
    "Companies\n",
    "\n",
    "You are given an integer array nums. You are initially positioned at the array's first index, and each element in the array represents your maximum jump length at that position.\n",
    "\n",
    "Return true if you can reach the last index, or false otherwise.\n",
    "\n",
    " \n",
    "\n",
    "Example 1:\n",
    "\n",
    "Input: nums = [2,3,1,1,4]\n",
    "Output: true\n",
    "Explanation: Jump 1 step from index 0 to 1, then 3 steps to the last index.\n",
    "\n",
    "Example 2:\n",
    "\n",
    "Input: nums = [3,2,1,0,4]\n",
    "Output: false\n",
    "Explanation: You will always arrive at index 3 no matter what. Its maximum jump length is 0, which makes it impossible to reach the last index.\n",
    "\n",
    " \n",
    "\n",
    "Constraints:\n",
    "\n",
    "    1 <= nums.length <= 104\n",
    "    0 <= nums[i] <= 105\n",
    "\n",
    "Accepted\n",
    "1.5M\n",
    "Submissions\n",
    "4M\n",
    "Acceptance Rate\n",
    "38.6%"
   ]
  },
  {
   "cell_type": "code",
   "execution_count": null,
   "metadata": {},
   "outputs": [],
   "source": [
    "class Solution:\n",
    "    def canJump(self, nums: list[int]) -> bool:\n",
    "        target = len(nums)-1\n",
    "        for i in range(len(nums)-2, -1, -1):\n",
    "            if nums[i] + i >= target:\n",
    "                target = i\n",
    "        return target == 0\n",
    "            \n",
    "        '''\n",
    "        if len(nums) < 2:\n",
    "            return True\n",
    "        curr_index = nums[0]\n",
    "        while curr_index > 0:\n",
    "            if curr_index >= len(nums)-1:\n",
    "                return True\n",
    "            if nums[curr_index] < 1:\n",
    "                curr_index -= 1\n",
    "            else:\n",
    "                jump = nums[curr_index]\n",
    "                nums[curr_index] = 0\n",
    "                curr_index += jump\n",
    "\n",
    "        return False\n",
    "        '''"
   ]
  }
 ],
 "metadata": {
  "language_info": {
   "name": "python"
  },
  "orig_nbformat": 4
 },
 "nbformat": 4,
 "nbformat_minor": 2
}
