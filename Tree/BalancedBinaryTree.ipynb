{
 "cells": [
  {
   "cell_type": "markdown",
   "metadata": {},
   "source": [
    "110. Balanced Binary Tree\n",
    "Easy\n",
    "10K\n",
    "585\n",
    "Companies\n",
    "\n",
    "Given a binary tree, determine if it is\n",
    "height-balanced\n",
    ".\n",
    "\n",
    " \n",
    "\n",
    "Example 1:\n",
    "\n",
    "Input: root = [3,9,20,null,null,15,7]\n",
    "Output: true\n",
    "\n",
    "Example 2:\n",
    "\n",
    "Input: root = [1,2,2,3,3,null,null,4,4]\n",
    "Output: false\n",
    "\n",
    "Example 3:\n",
    "\n",
    "Input: root = []\n",
    "Output: true\n",
    "\n",
    " \n",
    "\n",
    "Constraints:\n",
    "\n",
    "    The number of nodes in the tree is in the range [0, 5000].\n",
    "    -104 <= Node.val <= 104\n",
    "\n",
    "Accepted\n",
    "1.3M\n",
    "Submissions\n",
    "2.5M\n",
    "Acceptance Rate\n",
    "50.6%"
   ]
  },
  {
   "cell_type": "code",
   "execution_count": null,
   "metadata": {},
   "outputs": [],
   "source": [
    "# Definition for a binary tree node.\n",
    "# class TreeNode:\n",
    "#     def __init__(self, val=0, left=None, right=None):\n",
    "#         self.val = val\n",
    "#         self.left = left\n",
    "#         self.right = right\n",
    "class Solution:\n",
    "    def isBalanced(self, root: Optional[TreeNode]) -> bool:\n",
    "        def compareSubtreeHeight(root):\n",
    "            if root == None:\n",
    "                return True, 0\n",
    "            else:\n",
    "                left_balanced, left_height = compareSubtreeHeight(root.left)\n",
    "                right_balanced, right_height = compareSubtreeHeight(root.right)\n",
    "                return ((left_balanced and right_balanced and \n",
    "                        abs(left_height - right_height) <= 1), \n",
    "                        max(left_height, right_height) + 1)\n",
    "        return compareSubtreeHeight(root)[0]\n"
   ]
  },
  {
   "cell_type": "markdown",
   "metadata": {},
   "source": [
    "Recursive traversal, tracking whether each subtree is balanced and the height of each node."
   ]
  }
 ],
 "metadata": {
  "language_info": {
   "name": "python"
  }
 },
 "nbformat": 4,
 "nbformat_minor": 2
}
