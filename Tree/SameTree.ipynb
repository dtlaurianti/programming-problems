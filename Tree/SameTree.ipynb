{
 "cells": [
  {
   "attachments": {},
   "cell_type": "markdown",
   "metadata": {},
   "source": [
    "100. Same Tree\n",
    "Easy\n",
    "9.3K\n",
    "187\n",
    "Companies\n",
    "\n",
    "Given the roots of two binary trees p and q, write a function to check if they are the same or not.\n",
    "\n",
    "Two binary trees are considered the same if they are structurally identical, and the nodes have the same value.\n",
    "\n",
    " \n",
    "\n",
    "Example 1:\n",
    "\n",
    "Input: p = [1,2,3], q = [1,2,3]\n",
    "Output: true\n",
    "\n",
    "Example 2:\n",
    "\n",
    "Input: p = [1,2], q = [1,null,2]\n",
    "Output: false\n",
    "\n",
    "Example 3:\n",
    "\n",
    "Input: p = [1,2,1], q = [1,1,2]\n",
    "Output: false\n",
    "\n",
    " \n",
    "\n",
    "Constraints:\n",
    "\n",
    "    The number of nodes in both trees is in the range [0, 100].\n",
    "    -104 <= Node.val <= 104\n",
    "\n",
    "Accepted\n",
    "1.5M\n",
    "Submissions\n",
    "2.6M\n",
    "Acceptance Rate\n",
    "58.3%"
   ]
  },
  {
   "cell_type": "code",
   "execution_count": null,
   "metadata": {},
   "outputs": [],
   "source": [
    "# Definition for a binary tree node.\n",
    "# class TreeNode(object):\n",
    "#     def __init__(self, val=0, left=None, right=None):\n",
    "#         self.val = val\n",
    "#         self.left = left\n",
    "#         self.right = right\n",
    "class Solution(object):\n",
    "    def isSameTree(self, p, q):\n",
    "        \"\"\"\n",
    "        :type p: TreeNode\n",
    "        :type q: TreeNode\n",
    "        :rtype: bool\n",
    "        \"\"\"\n",
    "        if p is None and q is None:\n",
    "            return True\n",
    "        elif p is None or q is None:\n",
    "            return False\n",
    "        else:\n",
    "            return p.val == q.val and self.isSameTree(p.left, q.left) and self.isSameTree(p.right, q.right)"
   ]
  },
  {
   "attachments": {},
   "cell_type": "markdown",
   "metadata": {},
   "source": [
    "Recursion ANDing booleans, checking for equal values along the way."
   ]
  },
  {
   "cell_type": "code",
   "execution_count": null,
   "metadata": {},
   "outputs": [],
   "source": []
  }
 ],
 "metadata": {
  "language_info": {
   "name": "python"
  },
  "orig_nbformat": 4
 },
 "nbformat": 4,
 "nbformat_minor": 2
}
