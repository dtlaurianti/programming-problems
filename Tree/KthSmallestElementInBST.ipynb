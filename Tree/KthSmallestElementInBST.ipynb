{
 "cells": [
  {
   "cell_type": "markdown",
   "metadata": {},
   "source": [
    "230. Kth Smallest Element in a BST\n",
    "Medium\n",
    "10.6K\n",
    "191\n",
    "Companies\n",
    "\n",
    "Given the root of a binary search tree, and an integer k, return the kth smallest value (1-indexed) of all the values of the nodes in the tree.\n",
    "\n",
    " \n",
    "\n",
    "Example 1:\n",
    "\n",
    "Input: root = [3,1,4,null,2], k = 1\n",
    "Output: 1\n",
    "\n",
    "Example 2:\n",
    "\n",
    "Input: root = [5,3,6,2,4,null,null,1], k = 3\n",
    "Output: 3\n",
    "\n",
    " \n",
    "\n",
    "Constraints:\n",
    "\n",
    "    The number of nodes in the tree is n.\n",
    "    1 <= k <= n <= 104\n",
    "    0 <= Node.val <= 104\n",
    "\n",
    " \n",
    "\n",
    "Follow up: If the BST is modified often (i.e., we can do insert and delete operations) and you need to find the kth smallest frequently, how would you optimize?\n",
    "Accepted\n",
    "1.2M\n",
    "Submissions\n",
    "1.7M\n",
    "Acceptance Rate\n",
    "71.2%"
   ]
  },
  {
   "cell_type": "code",
   "execution_count": null,
   "metadata": {},
   "outputs": [],
   "source": [
    "# Definition for a binary tree node.\n",
    "# class TreeNode:\n",
    "#     def __init__(self, val=0, left=None, right=None):\n",
    "#         self.val = val\n",
    "#         self.left = left\n",
    "#         self.right = right\n",
    "\n",
    "class RecursiveExit(Exception):\n",
    "    pass\n",
    "\n",
    "class Solution:\n",
    "    def kthSmallest(self, root: Optional[TreeNode], k: int) -> int:\n",
    "\n",
    "        kthSmallestNode = []\n",
    "        def numberNodes(root, cid) -> int:\n",
    "            if root.left:\n",
    "                cid = numberNodes(root.left, cid)\n",
    "\n",
    "            if cid == k:\n",
    "                kthSmallestNode.append(root.val)\n",
    "                raise RecursiveExit(\"\")\n",
    "\n",
    "            cid = cid + 1\n",
    "\n",
    "            if root.right:\n",
    "                cid = numberNodes(root.right, cid)\n",
    "            return cid\n",
    "\n",
    "        try:\n",
    "            numberNodes(root, 1)\n",
    "        except RecursiveExit as e:\n",
    "            print('exit')\n",
    "            \n",
    "        return kthSmallestNode[0]"
   ]
  },
  {
   "cell_type": "markdown",
   "metadata": {},
   "source": [
    "Recursively traverse the BST in increasing order, keeping track of how many nodes you have traversed."
   ]
  }
 ],
 "metadata": {
  "language_info": {
   "name": "python"
  },
  "orig_nbformat": 4
 },
 "nbformat": 4,
 "nbformat_minor": 2
}
