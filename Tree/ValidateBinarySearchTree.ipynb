{
 "cells": [
  {
   "cell_type": "markdown",
   "metadata": {},
   "source": [
    "98. Validate Binary Search Tree\n",
    "Medium\n",
    "15.7K\n",
    "1.3K\n",
    "Companies\n",
    "\n",
    "Given the root of a binary tree, determine if it is a valid binary search tree (BST).\n",
    "\n",
    "A valid BST is defined as follows:\n",
    "\n",
    "    The left\n",
    "    subtree\n",
    "    of a node contains only nodes with keys less than the node's key.\n",
    "    The right subtree of a node contains only nodes with keys greater than the node's key.\n",
    "    Both the left and right subtrees must also be binary search trees.\n",
    "\n",
    " \n",
    "\n",
    "Example 1:\n",
    "\n",
    "Input: root = [2,1,3]\n",
    "Output: true\n",
    "\n",
    "Example 2:\n",
    "\n",
    "Input: root = [5,1,4,null,null,3,6]\n",
    "Output: false\n",
    "Explanation: The root node's value is 5 but its right child's value is 4.\n",
    "\n",
    " \n",
    "\n",
    "Constraints:\n",
    "\n",
    "    The number of nodes in the tree is in the range [1, 104].\n",
    "    -231 <= Node.val <= 231 - 1\n",
    "\n",
    "Accepted\n",
    "2.1M\n",
    "Submissions\n",
    "6.4M\n",
    "Acceptance Rate\n",
    "32.3%"
   ]
  },
  {
   "cell_type": "code",
   "execution_count": null,
   "metadata": {},
   "outputs": [],
   "source": [
    "# Definition for a binary tree node.\n",
    "# class TreeNode:\n",
    "#     def __init__(self, val=0, left=None, right=None):\n",
    "#         self.val = val\n",
    "#         self.left = left\n",
    "#         self.right = right\n",
    "class Solution:\n",
    "    def isValidBST(self, root: Optional[TreeNode]) -> bool:\n",
    "\n",
    "        def isValidSub(root: Optional[TreeNode], mn: int, mx: int) -> bool:\n",
    "            if not root.left:\n",
    "                if not root.right:\n",
    "                    return True\n",
    "\n",
    "                return (root.val < root.right.val and \n",
    "                root.right.val < mx and\n",
    "                isValidSub(root.right, max(mn, root.val), mx))\n",
    "\n",
    "            if not root.right:\n",
    "                return (root.val > root.left.val and \n",
    "                root.left.val > mn and\n",
    "                isValidSub(root.left, mn, min(mx, root.val)))\n",
    "            \n",
    "            \n",
    "            return (root.val > root.left.val and \n",
    "            root.val < root.right.val and \n",
    "            root.left.val > mn and\n",
    "            root.right.val < mx and\n",
    "            isValidSub(root.left, mn, min(mx, root.val)) and\n",
    "            isValidSub(root.right, max(mn, root.val), mx))\n",
    "        \n",
    "        return isValidSub(root, -inf, inf)"
   ]
  },
  {
   "cell_type": "markdown",
   "metadata": {},
   "source": [
    "Recursively check teh validity of the subtrees, keeping track of the bounds on node values as a min/max from higher levels."
   ]
  }
 ],
 "metadata": {
  "language_info": {
   "name": "python"
  },
  "orig_nbformat": 4
 },
 "nbformat": 4,
 "nbformat_minor": 2
}
