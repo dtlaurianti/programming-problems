{
 "cells": [
  {
   "cell_type": "markdown",
   "metadata": {},
   "source": [
    "105. Construct Binary Tree from Preorder and Inorder Traversal\n",
    "Medium\n",
    "13.9K\n",
    "419\n",
    "Companies\n",
    "\n",
    "Given two integer arrays preorder and inorder where preorder is the preorder traversal of a binary tree and inorder is the inorder traversal of the same tree, construct and return the binary tree.\n",
    "\n",
    " \n",
    "\n",
    "Example 1:\n",
    "\n",
    "Input: preorder = [3,9,20,15,7], inorder = [9,3,15,20,7]\n",
    "Output: [3,9,20,null,null,15,7]\n",
    "\n",
    "Example 2:\n",
    "\n",
    "Input: preorder = [-1], inorder = [-1]\n",
    "Output: [-1]\n",
    "\n",
    " \n",
    "\n",
    "Constraints:\n",
    "\n",
    "    1 <= preorder.length <= 3000\n",
    "    inorder.length == preorder.length\n",
    "    -3000 <= preorder[i], inorder[i] <= 3000\n",
    "    preorder and inorder consist of unique values.\n",
    "    Each value of inorder also appears in preorder.\n",
    "    preorder is guaranteed to be the preorder traversal of the tree.\n",
    "    inorder is guaranteed to be the inorder traversal of the tree.\n",
    "\n",
    "Accepted\n",
    "1.1M\n",
    "Submissions\n",
    "1.7M\n",
    "Acceptance Rate\n",
    "62.5%"
   ]
  },
  {
   "cell_type": "code",
   "execution_count": 1,
   "metadata": {},
   "outputs": [
    {
     "ename": "SyntaxError",
     "evalue": "incomplete input (2623456056.py, line 9)",
     "output_type": "error",
     "traceback": [
      "\u001b[1;36m  Cell \u001b[1;32mIn[1], line 9\u001b[1;36m\u001b[0m\n\u001b[1;33m    \u001b[0m\n\u001b[1;37m    ^\u001b[0m\n\u001b[1;31mSyntaxError\u001b[0m\u001b[1;31m:\u001b[0m incomplete input\n"
     ]
    }
   ],
   "source": [
    "# Definition for a binary tree node.\n",
    "# class TreeNode:\n",
    "#     def __init__(self, val=0, left=None, right=None):\n",
    "#         self.val = val\n",
    "#         self.left = left\n",
    "#         self.right = right\n",
    "class Solution:\n",
    "    def buildTree(self, preorder: list[int], inorder: list[int]) -> Optional[TreeNode]:\n",
    "        def buildSubTree(preorder, inorder):\n",
    "            if len(preorder) < 1:\n",
    "                return None\n",
    "            subRoot = TreeNode(preorder[0])\n",
    "            pivot = inorder.index(preorder[0])\n",
    "            subRoot.left = buildSubTree(preorder[1:pivot+1], inorder[:pivot])\n",
    "            subRoot.right = buildSubTree(preorder[pivot+1:], inorder[pivot+1:])\n",
    "            return subRoot\n",
    "        \n",
    "        return buildSubTree(preorder, inorder)\n"
   ]
  },
  {
   "cell_type": "markdown",
   "metadata": {},
   "source": [
    "Recursively split the preorder and inorder lists into subtrees, we know that all nodes to the left in the preorder list are $\\geq$ the level and all nodes to the left in the inorder list are a left subtree."
   ]
  }
 ],
 "metadata": {
  "kernelspec": {
   "display_name": "Python 3",
   "language": "python",
   "name": "python3"
  },
  "language_info": {
   "codemirror_mode": {
    "name": "ipython",
    "version": 3
   },
   "file_extension": ".py",
   "mimetype": "text/x-python",
   "name": "python",
   "nbconvert_exporter": "python",
   "pygments_lexer": "ipython3",
   "version": "3.11.5"
  },
  "orig_nbformat": 4
 },
 "nbformat": 4,
 "nbformat_minor": 2
}
