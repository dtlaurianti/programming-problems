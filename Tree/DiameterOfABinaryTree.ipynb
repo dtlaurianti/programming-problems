{
 "cells": [
  {
   "cell_type": "markdown",
   "metadata": {},
   "source": [
    "543. Diameter of Binary Tree\n",
    "Easy\n",
    "12.5K\n",
    "783\n",
    "Companies\n",
    "\n",
    "Given the root of a binary tree, return the length of the diameter of the tree.\n",
    "\n",
    "The diameter of a binary tree is the length of the longest path between any two nodes in a tree. This path may or may not pass through the root.\n",
    "\n",
    "The length of a path between two nodes is represented by the number of edges between them.\n",
    "\n",
    " \n",
    "\n",
    "Example 1:\n",
    "\n",
    "Input: root = [1,2,3,4,5]\n",
    "Output: 3\n",
    "Explanation: 3 is the length of the path [4,2,1,3] or [5,2,1,3].\n",
    "\n",
    "Example 2:\n",
    "\n",
    "Input: root = [1,2]\n",
    "Output: 1\n",
    "\n",
    " \n",
    "\n",
    "Constraints:\n",
    "\n",
    "    The number of nodes in the tree is in the range [1, 104].\n",
    "    -100 <= Node.val <= 100\n",
    "\n",
    "Accepted\n",
    "1.2M\n",
    "Submissions\n",
    "2M\n",
    "Acceptance Rate\n",
    "58.0%"
   ]
  },
  {
   "cell_type": "code",
   "execution_count": null,
   "metadata": {},
   "outputs": [],
   "source": [
    "# Definition for a binary tree node.\n",
    "# class TreeNode:\n",
    "#     def __init__(self, val=0, left=None, right=None):\n",
    "#         self.val = val\n",
    "#         self.left = left\n",
    "#         self.right = right\n",
    "class Solution:\n",
    "    def diameterOfBinaryTree(self, root: Optional[TreeNode]) -> int:\n",
    "        maxPath = [0]\n",
    "        def dfsDiameter(node: Optional[TreeNode]):\n",
    "            if not node:\n",
    "                return 0\n",
    "            leftDiameter = dfsDiameter(node.left)\n",
    "            rightDiameter = dfsDiameter(node.right)\n",
    "            if leftDiameter + rightDiameter > maxPath[0]:\n",
    "                maxPath[0] = leftDiameter + rightDiameter\n",
    "            return max(leftDiameter, rightDiameter) + 1\n",
    "\n",
    "        dfsDiameter(root)\n",
    "        return maxPath[0]"
   ]
  },
  {
   "cell_type": "markdown",
   "metadata": {},
   "source": [
    "Dfs over the tree, at each recursion level check if the path that passes through this subroot is the maximum path."
   ]
  }
 ],
 "metadata": {
  "language_info": {
   "name": "python"
  },
  "orig_nbformat": 4
 },
 "nbformat": 4,
 "nbformat_minor": 2
}
