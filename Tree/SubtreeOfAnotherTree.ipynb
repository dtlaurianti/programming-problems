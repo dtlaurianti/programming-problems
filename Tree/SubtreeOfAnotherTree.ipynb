{
 "cells": [
  {
   "attachments": {},
   "cell_type": "markdown",
   "metadata": {},
   "source": [
    "572. Subtree of Another Tree\n",
    "Easy\n",
    "7.6K\n",
    "438\n",
    "Companies\n",
    "\n",
    "Given the roots of two binary trees root and subRoot, return true if there is a subtree of root with the same structure and node values of subRoot and false otherwise.\n",
    "\n",
    "A subtree of a binary tree tree is a tree that consists of a node in tree and all of this node's descendants. The tree tree could also be considered as a subtree of itself.\n",
    "\n",
    " \n",
    "\n",
    "Example 1:\n",
    "\n",
    "Input: root = [3,4,5,1,2], subRoot = [4,1,2]\n",
    "Output: true\n",
    "\n",
    "Example 2:\n",
    "\n",
    "Input: root = [3,4,5,1,2,null,null,null,null,0], subRoot = [4,1,2]\n",
    "Output: false\n",
    "\n",
    " \n",
    "\n",
    "Constraints:\n",
    "\n",
    "    The number of nodes in the root tree is in the range [1, 2000].\n",
    "    The number of nodes in the subRoot tree is in the range [1, 1000].\n",
    "    -104 <= root.val <= 104\n",
    "    -104 <= subRoot.val <= 104\n",
    "\n",
    "Accepted\n",
    "702K\n",
    "Submissions\n",
    "1.5M\n",
    "Acceptance Rate\n",
    "46.8%\n"
   ]
  },
  {
   "cell_type": "code",
   "execution_count": null,
   "metadata": {},
   "outputs": [],
   "source": [
    "# Definition for a binary tree node.\n",
    "# class TreeNode:\n",
    "#     def __init__(self, val=0, left=None, right=None):\n",
    "#         self.val = val\n",
    "#         self.left = left\n",
    "#         self.right = right\n",
    "\n",
    "\"\"\" slow method\n",
    "class Solution:\n",
    "    def isSubtree(self, root: Optional[TreeNode], subRoot: Optional[TreeNode]) -> bool:\n",
    "        def treeEqual(root, subRoot) -> bool:\n",
    "            # base cases\n",
    "            if root == None:\n",
    "                return subRoot == None\n",
    "            if subRoot == None:\n",
    "                return False\n",
    "            # recursively check for equaivalency\n",
    "            return root.val == subRoot.val and treeEqual(root.left, subRoot.left) and treeEqual(root.right, subRoot.right)\n",
    "        # base case\n",
    "        if root == None:\n",
    "                return subRoot == None\n",
    "        # check if we are at the subTree, otherwise recurse further\n",
    "        return treeEqual(root, subRoot) or self.isSubtree(root.left, subRoot) or self.isSubtree(root.right, subRoot)\n",
    "\"\"\"\n",
    "# Merkle Hashing method\n",
    "class Solution:\n",
    "    def isSubtree(self, root: Optional[TreeNode], subRoot: Optional[TreeNode]) -> bool:\n",
    "        def hashify(node):\n",
    "            if not node:\n",
    "                return None\n",
    "            key = (node.val, hashify(node.left), hashify(node.right))\n",
    "            return memo.setdefault(key, len(memo))\n",
    "\n",
    "        memo = {}\n",
    "        hashify(root)\n",
    "\n",
    "        return (subRoot.val, hashify(subRoot.left), hashify(subRoot.right)) in memo"
   ]
  },
  {
   "attachments": {},
   "cell_type": "markdown",
   "metadata": {},
   "source": [
    "Use dynamic programming memoization to store a unique hash value for each subtree in the root tree.  Then if you find that the hash value created for the subRoot matches one of those values then you know the subtrees are identical."
   ]
  }
 ],
 "metadata": {
  "language_info": {
   "name": "python"
  },
  "orig_nbformat": 4
 },
 "nbformat": 4,
 "nbformat_minor": 2
}
