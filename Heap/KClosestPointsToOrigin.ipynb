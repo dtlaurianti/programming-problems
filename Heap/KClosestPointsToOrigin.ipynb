{
 "cells": [
  {
   "cell_type": "markdown",
   "metadata": {},
   "source": [
    "973. K Closest Points to Origin\n",
    "Medium\n",
    "8K\n",
    "279\n",
    "Companies\n",
    "\n",
    "Given an array of points where points[i] = [xi, yi] represents a point on the X-Y plane and an integer k, return the k closest points to the origin (0, 0).\n",
    "\n",
    "The distance between two points on the X-Y plane is the Euclidean distance (i.e., √(x1 - x2)2 + (y1 - y2)2).\n",
    "\n",
    "You may return the answer in any order. The answer is guaranteed to be unique (except for the order that it is in).\n",
    "\n",
    " \n",
    "\n",
    "Example 1:\n",
    "\n",
    "Input: points = [[1,3],[-2,2]], k = 1\n",
    "Output: [[-2,2]]\n",
    "Explanation:\n",
    "The distance between (1, 3) and the origin is sqrt(10).\n",
    "The distance between (-2, 2) and the origin is sqrt(8).\n",
    "Since sqrt(8) < sqrt(10), (-2, 2) is closer to the origin.\n",
    "We only want the closest k = 1 points from the origin, so the answer is just [[-2,2]].\n",
    "\n",
    "Example 2:\n",
    "\n",
    "Input: points = [[3,3],[5,-1],[-2,4]], k = 2\n",
    "Output: [[3,3],[-2,4]]\n",
    "Explanation: The answer [[-2,4],[3,3]] would also be accepted.\n",
    "\n",
    " \n",
    "\n",
    "Constraints:\n",
    "\n",
    "    1 <= k <= points.length <= 104\n",
    "    -104 <= xi, yi <= 104\n",
    "\n",
    "Accepted\n",
    "1.1M\n",
    "Submissions\n",
    "1.6M\n",
    "Acceptance Rate\n",
    "65.9%"
   ]
  },
  {
   "cell_type": "code",
   "execution_count": null,
   "metadata": {},
   "outputs": [],
   "source": [
    "import heapq, math\n",
    "class Solution:\n",
    "    def kClosest(self, points: List[List[int]], k: int) -> List[List[int]]:\n",
    "        max_heap = []\n",
    "        for point in points:\n",
    "            distance = math.sqrt(point[0]**2 + point[1]**2)\n",
    "            heapq.heappush(max_heap, [-distance, point])\n",
    "            if len(max_heap) > k:\n",
    "                heapq.heappop(max_heap)\n",
    "        \n",
    "        return [point for distance, point in max_heap]"
   ]
  },
  {
   "cell_type": "markdown",
   "metadata": {},
   "source": [
    "Maintain a max heap of the k smallest distance points."
   ]
  }
 ],
 "metadata": {
  "language_info": {
   "name": "python"
  }
 },
 "nbformat": 4,
 "nbformat_minor": 2
}
