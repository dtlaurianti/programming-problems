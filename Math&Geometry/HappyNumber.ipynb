{
 "cells": [
  {
   "cell_type": "markdown",
   "metadata": {},
   "source": [
    "202. Happy Number\n",
    "Easy\n",
    "9.6K\n",
    "1.3K\n",
    "Companies\n",
    "\n",
    "Write an algorithm to determine if a number n is happy.\n",
    "\n",
    "A happy number is a number defined by the following process:\n",
    "\n",
    "    Starting with any positive integer, replace the number by the sum of the squares of its digits.\n",
    "    Repeat the process until the number equals 1 (where it will stay), or it loops endlessly in a cycle which does not include 1.\n",
    "    Those numbers for which this process ends in 1 are happy.\n",
    "\n",
    "Return true if n is a happy number, and false if not.\n",
    "\n",
    " \n",
    "\n",
    "Example 1:\n",
    "\n",
    "Input: n = 19\n",
    "Output: true\n",
    "Explanation:\n",
    "12 + 92 = 82\n",
    "82 + 22 = 68\n",
    "62 + 82 = 100\n",
    "12 + 02 + 02 = 1\n",
    "\n",
    "Example 2:\n",
    "\n",
    "Input: n = 2\n",
    "Output: false\n",
    "\n",
    " \n",
    "\n",
    "Constraints:\n",
    "\n",
    "    1 <= n <= 231 - 1\n",
    "\n",
    "Accepted\n",
    "1.3M\n",
    "Submissions\n",
    "2.3M\n",
    "Acceptance Rate\n",
    "55.4%"
   ]
  },
  {
   "cell_type": "code",
   "execution_count": null,
   "metadata": {},
   "outputs": [],
   "source": [
    "class Solution:\n",
    "    def isHappy(self, n: int) -> bool:\n",
    "        history = set() \n",
    "        number_str = str(n)\n",
    "        while (number_str not in history):\n",
    "            history.add(number_str)\n",
    "            number_str = str(sum([int(digit)**2 for digit in number_str]))\n",
    "            if number_str == \"1\":\n",
    "                return True\n",
    "        return False\n"
   ]
  }
 ],
 "metadata": {
  "language_info": {
   "name": "python"
  },
  "orig_nbformat": 4
 },
 "nbformat": 4,
 "nbformat_minor": 2
}
