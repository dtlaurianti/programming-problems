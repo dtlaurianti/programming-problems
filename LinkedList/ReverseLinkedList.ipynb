{
 "cells": [
  {
   "attachments": {},
   "cell_type": "markdown",
   "metadata": {},
   "source": [
    "206. Reverse Linked List\n",
    "Easy\n",
    "17.6K\n",
    "322\n",
    "Companies\n",
    "\n",
    "Given the head of a singly linked list, reverse the list, and return the reversed list.\n",
    "\n",
    " \n",
    "\n",
    "Example 1:\n",
    "\n",
    "Input: head = [1,2,3,4,5]\n",
    "Output: [5,4,3,2,1]\n",
    "\n",
    "Example 2:\n",
    "\n",
    "Input: head = [1,2]\n",
    "Output: [2,1]\n",
    "\n",
    "Example 3:\n",
    "\n",
    "Input: head = []\n",
    "Output: []\n",
    "\n",
    " \n",
    "\n",
    "Constraints:\n",
    "\n",
    "    The number of nodes in the list is the range [0, 5000].\n",
    "    -5000 <= Node.val <= 5000\n",
    "\n",
    " \n",
    "\n",
    "Follow up: A linked list can be reversed either iteratively or recursively. Could you implement both?\n",
    "Accepted\n",
    "3M\n",
    "Submissions\n",
    "4.1M\n",
    "Acceptance Rate\n",
    "73.7%"
   ]
  },
  {
   "cell_type": "code",
   "execution_count": 1,
   "metadata": {},
   "outputs": [],
   "source": [
    "# Definition for singly-linked list.\n",
    "# class ListNode(object):\n",
    "#     def __init__(self, val=0, next=None):\n",
    "#         self.val = val\n",
    "#         self.next = next\n",
    "class Solution(object):\n",
    "    def reverseList(self, head):\n",
    "        \"\"\"\n",
    "        :type head: ListNode\n",
    "        :rtype: ListNode\n",
    "        \"\"\"\n",
    "        if head == None:\n",
    "            return None\n",
    "        if head.next == None:\n",
    "            return head\n",
    "        node = head.next\n",
    "        prev = head\n",
    "        head.next = None\n",
    "        while node.next is not None:\n",
    "            next = node.next\n",
    "            node.next = prev\n",
    "            prev = node\n",
    "            node = next\n",
    "        node.next = prev\n",
    "        return node"
   ]
  },
  {
   "attachments": {},
   "cell_type": "markdown",
   "metadata": {},
   "source": [
    "Keep track of adjacent nodes, swap next with prev."
   ]
  },
  {
   "cell_type": "code",
   "execution_count": null,
   "metadata": {},
   "outputs": [],
   "source": []
  }
 ],
 "metadata": {
  "kernelspec": {
   "display_name": "Python 3",
   "language": "python",
   "name": "python3"
  },
  "language_info": {
   "codemirror_mode": {
    "name": "ipython",
    "version": 3
   },
   "file_extension": ".py",
   "mimetype": "text/x-python",
   "name": "python",
   "nbconvert_exporter": "python",
   "pygments_lexer": "ipython3",
   "version": "3.11.3"
  },
  "orig_nbformat": 4
 },
 "nbformat": 4,
 "nbformat_minor": 2
}
