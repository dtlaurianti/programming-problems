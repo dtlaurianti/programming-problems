{
 "cells": [
  {
   "cell_type": "markdown",
   "metadata": {},
   "source": [
    "19. Remove Nth Node From End of List\n",
    "Medium\n",
    "17.1K\n",
    "703\n",
    "Companies\n",
    "\n",
    "Given the head of a linked list, remove the nth node from the end of the list and return its head.\n",
    "\n",
    " \n",
    "\n",
    "Example 1:\n",
    "\n",
    "Input: head = [1,2,3,4,5], n = 2\n",
    "Output: [1,2,3,5]\n",
    "\n",
    "Example 2:\n",
    "\n",
    "Input: head = [1], n = 1\n",
    "Output: []\n",
    "\n",
    "Example 3:\n",
    "\n",
    "Input: head = [1,2], n = 1\n",
    "Output: [1]\n",
    "\n",
    " \n",
    "\n",
    "Constraints:\n",
    "\n",
    "    The number of nodes in the list is sz.\n",
    "    1 <= sz <= 30\n",
    "    0 <= Node.val <= 100\n",
    "    1 <= n <= sz\n",
    "\n",
    " \n",
    "\n",
    "Follow up: Could you do this in one pass?\n",
    "Accepted\n",
    "2.2M\n",
    "Submissions\n",
    "5.2M\n",
    "Acceptance Rate\n",
    "42.4%"
   ]
  },
  {
   "cell_type": "code",
   "execution_count": null,
   "metadata": {},
   "outputs": [],
   "source": [
    "# Definition for singly-linked list.\n",
    "# class ListNode:\n",
    "#     def __init__(self, val=0, next=None):\n",
    "#         self.val = val\n",
    "#         self.next = next\n",
    "class Solution:\n",
    "    def removeNthFromEnd(self, head: Optional[ListNode], n: int) -> Optional[ListNode]:\n",
    "        curr = head\n",
    "        nodes = []\n",
    "        sz = 0\n",
    "        while curr:\n",
    "            nodes.append(curr)\n",
    "            curr = curr.next\n",
    "            sz += 1\n",
    "        \n",
    "        if sz == n:\n",
    "            return head.next\n",
    "\n",
    "        if n == 1:\n",
    "            nodes[-n-1].next = None\n",
    "            return head\n",
    "        \n",
    "        nodes[-n-1].next = nodes[-n+1]\n",
    "        return head"
   ]
  },
  {
   "cell_type": "markdown",
   "metadata": {},
   "source": [
    "Store nodes in an array then splice the nodes around the removed node together"
   ]
  }
 ],
 "metadata": {
  "language_info": {
   "name": "python"
  },
  "orig_nbformat": 4
 },
 "nbformat": 4,
 "nbformat_minor": 2
}
