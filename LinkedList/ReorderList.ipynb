{
 "cells": [
  {
   "cell_type": "markdown",
   "metadata": {},
   "source": [
    "143. Reorder List\n",
    "Medium\n",
    "9.6K\n",
    "316\n",
    "Companies\n",
    "\n",
    "You are given the head of a singly linked-list. The list can be represented as:\n",
    "\n",
    "L0 → L1 → … → Ln - 1 → Ln\n",
    "\n",
    "Reorder the list to be on the following form:\n",
    "\n",
    "L0 → Ln → L1 → Ln - 1 → L2 → Ln - 2 → …\n",
    "\n",
    "You may not modify the values in the list's nodes. Only nodes themselves may be changed.\n",
    "\n",
    " \n",
    "\n",
    "Example 1:\n",
    "\n",
    "Input: head = [1,2,3,4]\n",
    "Output: [1,4,2,3]\n",
    "\n",
    "Example 2:\n",
    "\n",
    "Input: head = [1,2,3,4,5]\n",
    "Output: [1,5,2,4,3]\n",
    "\n",
    " \n",
    "\n",
    "Constraints:\n",
    "\n",
    "    The number of nodes in the list is in the range [1, 5 * 104].\n",
    "    1 <= Node.val <= 1000\n",
    "\n",
    "Accepted\n",
    "735.7K\n",
    "Submissions\n",
    "1.4M\n",
    "Acceptance Rate\n",
    "54.3%\n"
   ]
  },
  {
   "cell_type": "code",
   "execution_count": null,
   "metadata": {},
   "outputs": [],
   "source": [
    "# Definition for singly-linked list.\n",
    "# class ListNode:\n",
    "#     def __init__(self, val=0, next=None):\n",
    "#         self.val = val\n",
    "#         self.next = next\n",
    "class Solution:\n",
    "    def reorderList(self, head: Optional[ListNode]) -> None:\n",
    "        \"\"\"\n",
    "        Do not return anything, modify head in-place instead.\n",
    "        \"\"\"\n",
    "        # create a array to store the nodes in current order\n",
    "        lst = []\n",
    "\n",
    "        # loop over the linked list and add them to the array\n",
    "        curr = head\n",
    "        while curr:\n",
    "            lst.append(curr)\n",
    "            curr = curr.next\n",
    "        \n",
    "        # get the number of nodes in the linked list\n",
    "        n = len(lst)\n",
    "        \n",
    "        # and the midpoint\n",
    "        mid = n//2\n",
    "\n",
    "        # for the nodes in the first half of the list, we need to insert the nodes\n",
    "        # from the later half in reverse order\n",
    "        for i in range(0, mid):\n",
    "            # insert the node from the second half\n",
    "            lst[i].next = lst[n-i-1]\n",
    "            # attach the next node to the inserted node\n",
    "            lst[n-i-1].next = lst[i+1]\n",
    "\n",
    "        # then chop off at the new tail\n",
    "        lst[mid].next = None\n"
   ]
  },
  {
   "cell_type": "markdown",
   "metadata": {},
   "source": [
    "Store the nodes in an array, then insert the nodes from the second half of the list into the first half of the list in reverse order."
   ]
  }
 ],
 "metadata": {
  "language_info": {
   "name": "python"
  },
  "orig_nbformat": 4
 },
 "nbformat": 4,
 "nbformat_minor": 2
}
