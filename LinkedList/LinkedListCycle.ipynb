{
 "cells": [
  {
   "cell_type": "markdown",
   "metadata": {},
   "source": [
    "141. Linked List Cycle\n",
    "Easy\n",
    "14.1K\n",
    "1.1K\n",
    "Companies\n",
    "\n",
    "Given head, the head of a linked list, determine if the linked list has a cycle in it.\n",
    "\n",
    "There is a cycle in a linked list if there is some node in the list that can be reached again by continuously following the next pointer. Internally, pos is used to denote the index of the node that tail's next pointer is connected to. Note that pos is not passed as a parameter.\n",
    "\n",
    "Return true if there is a cycle in the linked list. Otherwise, return false.\n",
    "\n",
    " \n",
    "\n",
    "Example 1:\n",
    "\n",
    "Input: head = [3,2,0,-4], pos = 1\n",
    "Output: true\n",
    "Explanation: There is a cycle in the linked list, where the tail connects to the 1st node (0-indexed).\n",
    "\n",
    "Example 2:\n",
    "\n",
    "Input: head = [1,2], pos = 0\n",
    "Output: true\n",
    "Explanation: There is a cycle in the linked list, where the tail connects to the 0th node.\n",
    "\n",
    "Example 3:\n",
    "\n",
    "Input: head = [1], pos = -1\n",
    "Output: false\n",
    "Explanation: There is no cycle in the linked list.\n",
    "\n",
    " \n",
    "\n",
    "Constraints:\n",
    "\n",
    "    The number of the nodes in the list is in the range [0, 104].\n",
    "    -105 <= Node.val <= 105\n",
    "    pos is -1 or a valid index in the linked-list.\n",
    "\n",
    " \n",
    "\n",
    "Follow up: Can you solve it using O(1) (i.e. constant) memory?\n",
    "Accepted\n",
    "2.4M\n",
    "Submissions\n",
    "4.8M\n",
    "Acceptance Rate\n",
    "48.7%"
   ]
  },
  {
   "cell_type": "code",
   "execution_count": null,
   "metadata": {},
   "outputs": [],
   "source": [
    "# Definition for singly-linked list.\n",
    "# class ListNode:\n",
    "#     def __init__(self, x):\n",
    "#         self.val = x\n",
    "#         self.next = None\n",
    "\n",
    "class Solution:\n",
    "    def hasCycle(self, head: Optional[ListNode]) -> bool:\n",
    "        tortoise = head\n",
    "        hare = head\n",
    "\n",
    "        while tortoise is not None and hare is not None and hare.next is not None:\n",
    "            hare = hare.next.next\n",
    "            tortoise = tortoise.next\n",
    "            if hare == tortoise:\n",
    "                return True\n",
    "\n",
    "        return False\n"
   ]
  },
  {
   "cell_type": "markdown",
   "metadata": {},
   "source": [
    "Tortoise-Hare to see if the faster traverse ever reaches the slower traverse."
   ]
  }
 ],
 "metadata": {
  "language_info": {
   "name": "python"
  },
  "orig_nbformat": 4
 },
 "nbformat": 4,
 "nbformat_minor": 2
}
