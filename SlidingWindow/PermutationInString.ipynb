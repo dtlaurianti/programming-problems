{
 "cells": [
  {
   "cell_type": "markdown",
   "metadata": {},
   "source": [
    "567. Permutation in String\n",
    "Medium\n",
    "10.7K\n",
    "352\n",
    "Companies\n",
    "\n",
    "Given two strings s1 and s2, return true if s2 contains a permutation of s1, or false otherwise.\n",
    "\n",
    "In other words, return true if one of s1's permutations is the substring of s2.\n",
    "\n",
    " \n",
    "\n",
    "Example 1:\n",
    "\n",
    "Input: s1 = \"ab\", s2 = \"eidbaooo\"\n",
    "Output: true\n",
    "Explanation: s2 contains one permutation of s1 (\"ba\").\n",
    "\n",
    "Example 2:\n",
    "\n",
    "Input: s1 = \"ab\", s2 = \"eidboaoo\"\n",
    "Output: false\n",
    "\n",
    " \n",
    "\n",
    "Constraints:\n",
    "\n",
    "    1 <= s1.length, s2.length <= 104\n",
    "    s1 and s2 consist of lowercase English letters.\n",
    "\n",
    "Accepted\n",
    "731.6K\n",
    "Submissions\n",
    "1.7M\n",
    "Acceptance Rate\n",
    "44.2%"
   ]
  },
  {
   "cell_type": "code",
   "execution_count": null,
   "metadata": {},
   "outputs": [],
   "source": [
    "class Solution:\n",
    "    def checkInclusion(self, s1: str, s2: str) -> bool:\n",
    "        s1_count = {}\n",
    "        for char in s1:\n",
    "            if char not in s1_count:\n",
    "                s1_count[char] = 1\n",
    "            else:\n",
    "                s1_count[char] += 1\n",
    "        \n",
    "        s2_window_count = {}\n",
    "        for index, char in enumerate(s2):\n",
    "            if index - len(s1) >= 0:\n",
    "                s2_window_count[s2[index-len(s1)]] -= 1\n",
    "                if s2_window_count[s2[index-len(s1)]] == 0:\n",
    "                    s2_window_count.pop(s2[index-len(s1)])\n",
    "            if char not in s2_window_count:\n",
    "                s2_window_count[char] = 1\n",
    "            else:\n",
    "                s2_window_count[char] += 1\n",
    "            if s1_count == s2_window_count:\n",
    "                return True\n",
    "        \n",
    "        return False\n",
    "                "
   ]
  },
  {
   "cell_type": "markdown",
   "metadata": {},
   "source": [
    "Make a count dictionary of the first string and then sliding window over the second string while updating a count dictionary, check if they match each iteration."
   ]
  }
 ],
 "metadata": {
  "language_info": {
   "name": "python"
  },
  "orig_nbformat": 4
 },
 "nbformat": 4,
 "nbformat_minor": 2
}
