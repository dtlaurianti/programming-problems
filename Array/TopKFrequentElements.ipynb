{
 "cells": [
  {
   "attachments": {},
   "cell_type": "markdown",
   "metadata": {},
   "source": [
    "347. Top K Frequent Elements\n",
    "Medium\n",
    "15.7K\n",
    "549\n",
    "Companies\n",
    "\n",
    "Given an integer array nums and an integer k, return the k most frequent elements. You may return the answer in any order.\n",
    "\n",
    " \n",
    "\n",
    "Example 1:\n",
    "\n",
    "Input: nums = [1,1,1,2,2,3], k = 2\n",
    "Output: [1,2]\n",
    "\n",
    "Example 2:\n",
    "\n",
    "Input: nums = [1], k = 1\n",
    "Output: [1]\n",
    "\n",
    " \n",
    "\n",
    "Constraints:\n",
    "\n",
    "    1 <= nums.length <= 105\n",
    "    -104 <= nums[i] <= 104\n",
    "    k is in the range [1, the number of unique elements in the array].\n",
    "    It is guaranteed that the answer is unique.\n",
    "\n",
    " \n",
    "\n",
    "Follow up: Your algorithm's time complexity must be better than O(n log n), where n is the array's size.\n"
   ]
  },
  {
   "cell_type": "code",
   "execution_count": null,
   "metadata": {},
   "outputs": [],
   "source": [
    "class Solution:\n",
    "    def topKFrequent(self, nums: List[int], k: int) -> List[int]:\n",
    "        # get the frequency of each integer\n",
    "        counts = defaultdict(int)\n",
    "        for num in nums:\n",
    "            counts[num] += 1\n",
    "        \n",
    "        sorted_nums = sorted(counts, key=lambda key:counts[key], reverse=True)\n",
    "\n",
    "        return sorted_nums[:k]"
   ]
  },
  {
   "attachments": {},
   "cell_type": "markdown",
   "metadata": {},
   "source": [
    "Store counts in a hashmap, then sort that hashmap by values and take the first k elements of the sorted keys."
   ]
  }
 ],
 "metadata": {
  "language_info": {
   "name": "python"
  },
  "orig_nbformat": 4
 },
 "nbformat": 4,
 "nbformat_minor": 2
}
