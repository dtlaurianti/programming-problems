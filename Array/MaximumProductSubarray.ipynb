{
 "cells": [
  {
   "attachments": {},
   "cell_type": "markdown",
   "metadata": {},
   "source": [
    "152. Maximum Product Subarray\n",
    "Medium\n",
    "15.7K\n",
    "476\n",
    "Companies\n",
    "\n",
    "Given an integer array nums, find a\n",
    "subarray\n",
    "that has the largest product, and return the product.\n",
    "\n",
    "The test cases are generated so that the answer will fit in a 32-bit integer.\n",
    "\n",
    " \n",
    "\n",
    "Example 1:\n",
    "\n",
    "Input: nums = [2,3,-2,4]\n",
    "Output: 6\n",
    "Explanation: [2,3] has the largest product 6.\n",
    "\n",
    "Example 2:\n",
    "\n",
    "Input: nums = [-2,0,-1]\n",
    "Output: 0\n",
    "Explanation: The result cannot be 2, because [-2,-1] is not a subarray.\n",
    "\n",
    " \n",
    "\n",
    "Constraints:\n",
    "\n",
    "    1 <= nums.length <= 2 * 104\n",
    "    -10 <= nums[i] <= 10\n",
    "    The product of any prefix or suffix of nums is guaranteed to fit in a 32-bit integer.\n",
    "\n",
    "Accepted\n",
    "988.7K\n",
    "Submissions\n",
    "2.8M\n",
    "Acceptance Rate\n",
    "34.9%"
   ]
  },
  {
   "cell_type": "code",
   "execution_count": 1,
   "metadata": {},
   "outputs": [],
   "source": [
    "class Solution(object):\n",
    "    def maxProduct(self, nums):\n",
    "        \"\"\"\n",
    "        :type nums: List[int]\n",
    "        :rtype: int\n",
    "        \"\"\"\n",
    "        maxProd = nums[0]\n",
    "        minProd = nums[0]\n",
    "        res = nums[0]\n",
    "        for i in range(1, len(nums)):\n",
    "            if nums[i] < 0:\n",
    "                maxProd, minProd = minProd, maxProd\n",
    "\n",
    "            maxProd = max(nums[i], nums[i]*maxProd)\n",
    "            minProd = min(nums[i], nums[i]*minProd)\n",
    "            res = max(res, maxProd)\n",
    "        return res"
   ]
  },
  {
   "attachments": {},
   "cell_type": "markdown",
   "metadata": {},
   "source": [
    "Keep track of both the minimum and maximum product ending on each index, as well as the max product acheived."
   ]
  },
  {
   "cell_type": "code",
   "execution_count": null,
   "metadata": {},
   "outputs": [],
   "source": []
  }
 ],
 "metadata": {
  "kernelspec": {
   "display_name": "Python 3",
   "language": "python",
   "name": "python3"
  },
  "language_info": {
   "codemirror_mode": {
    "name": "ipython",
    "version": 3
   },
   "file_extension": ".py",
   "mimetype": "text/x-python",
   "name": "python",
   "nbconvert_exporter": "python",
   "pygments_lexer": "ipython3",
   "version": "3.11.3"
  },
  "orig_nbformat": 4
 },
 "nbformat": 4,
 "nbformat_minor": 2
}
