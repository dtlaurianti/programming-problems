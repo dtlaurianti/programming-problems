{
 "cells": [
  {
   "cell_type": "markdown",
   "metadata": {},
   "source": [
    "128. Longest Consecutive Sequence\n",
    "Medium\n",
    "18K\n",
    "800\n",
    "Companies\n",
    "\n",
    "Given an unsorted array of integers nums, return the length of the longest consecutive elements sequence.\n",
    "\n",
    "You must write an algorithm that runs in O(n) time.\n",
    "\n",
    " \n",
    "\n",
    "Example 1:\n",
    "\n",
    "Input: nums = [100,4,200,1,3,2]\n",
    "Output: 4\n",
    "Explanation: The longest consecutive elements sequence is [1, 2, 3, 4]. Therefore its length is 4.\n",
    "\n",
    "Example 2:\n",
    "\n",
    "Input: nums = [0,3,7,2,5,8,4,6,0,1]\n",
    "Output: 9\n",
    "\n",
    " \n",
    "\n",
    "Constraints:\n",
    "\n",
    "    0 <= nums.length <= 105\n",
    "    -109 <= nums[i] <= 109\n",
    "\n"
   ]
  },
  {
   "cell_type": "code",
   "execution_count": null,
   "metadata": {},
   "outputs": [],
   "source": []
  },
  {
   "cell_type": "code",
   "execution_count": null,
   "metadata": {},
   "outputs": [],
   "source": [
    "class Solution:\n",
    "    def longestConsecutive(self, nums: List[int]) -> int:\n",
    "        setnums = set(nums)\n",
    "        longest = 0\n",
    "\n",
    "        while setnums:\n",
    "            low = high = setnums.pop()\n",
    "\n",
    "            while low-1 in setnums or high+1 in setnums:\n",
    "                if low-1 in setnums:\n",
    "                    setnums.remove(low-1)\n",
    "                    low -= 1\n",
    "\n",
    "                if high+1 in setnums:\n",
    "                    setnums.remove(high+1)\n",
    "                    high += 1\n",
    "\n",
    "            longest = max(high - low + 1, longest)\n",
    "\n",
    "        return longest"
   ]
  },
  {
   "cell_type": "markdown",
   "metadata": {},
   "source": [
    "Make a hashmap set of the elements in the list, then remove elements from the set and search for the adjacent elements, building connected components from the set.  Once all elements have been removed, all connected components have been searched, and the longest variable contains the size of the longest consecutive substring."
   ]
  }
 ],
 "metadata": {
  "language_info": {
   "name": "python"
  },
  "orig_nbformat": 4
 },
 "nbformat": 4,
 "nbformat_minor": 2
}
