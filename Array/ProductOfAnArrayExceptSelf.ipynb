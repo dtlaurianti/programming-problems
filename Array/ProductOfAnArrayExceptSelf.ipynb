{
 "cells": [
  {
   "attachments": {},
   "cell_type": "markdown",
   "metadata": {},
   "source": [
    "238. Product of Array Except Self\n",
    "Medium\n",
    "17.2K\n",
    "947\n",
    "Companies\n",
    "\n",
    "Given an integer array nums, return an array answer such that answer[i] is equal to the product of all the elements of nums except nums[i].\n",
    "\n",
    "The product of any prefix or suffix of nums is guaranteed to fit in a 32-bit integer.\n",
    "\n",
    "You must write an algorithm that runs in O(n) time and without using the division operation.\n",
    "\n",
    " \n",
    "\n",
    "Example 1:\n",
    "\n",
    "Input: nums = [1,2,3,4]\n",
    "Output: [24,12,8,6]\n",
    "\n",
    "Example 2:\n",
    "\n",
    "Input: nums = [-1,1,0,-3,3]\n",
    "Output: [0,0,9,0,0]\n",
    "\n",
    " \n",
    "\n",
    "Constraints:\n",
    "\n",
    "    2 <= nums.length <= 105\n",
    "    -30 <= nums[i] <= 30\n",
    "    The product of any prefix or suffix of nums is guaranteed to fit in a 32-bit integer.\n",
    "\n",
    " \n",
    "\n",
    "Follow up: Can you solve the problem in O(1) extra space complexity? (The output array does not count as extra space for space complexity analysis.)\n",
    "Accepted\n",
    "1.6M\n",
    "Submissions\n",
    "2.5M\n",
    "Acceptance Rate\n",
    "65.1%"
   ]
  },
  {
   "cell_type": "code",
   "execution_count": 1,
   "metadata": {},
   "outputs": [],
   "source": [
    "class Solution(object):\n",
    "    def productExceptSelf(self, nums):\n",
    "        \"\"\"\n",
    "        :type nums: List[int]\n",
    "        :rtype: List[int]\n",
    "        \"\"\"\n",
    "        products = [1 for i in nums]\n",
    "        # compute the product of elements to the left of the index\n",
    "        for index in range(len(nums)-1):\n",
    "            products[index+1] = products[index]*nums[index]\n",
    "        # compute the product of elements to the right of the index\n",
    "        right_product = 1\n",
    "        for index in range(len(nums)-1, -1, -1):\n",
    "            products[index] *= right_product\n",
    "            right_product *= nums[index]\n",
    "        return products"
   ]
  },
  {
   "attachments": {},
   "cell_type": "markdown",
   "metadata": {},
   "source": [
    "Compute the products of the elements to the left and right of an index seperately, do one side on the fly to save memory."
   ]
  },
  {
   "cell_type": "markdown",
   "metadata": {},
   "source": []
  }
 ],
 "metadata": {
  "kernelspec": {
   "display_name": "Python 3",
   "language": "python",
   "name": "python3"
  },
  "language_info": {
   "codemirror_mode": {
    "name": "ipython",
    "version": 3
   },
   "file_extension": ".py",
   "mimetype": "text/x-python",
   "name": "python",
   "nbconvert_exporter": "python",
   "pygments_lexer": "ipython3",
   "version": "3.11.3"
  },
  "orig_nbformat": 4
 },
 "nbformat": 4,
 "nbformat_minor": 2
}
